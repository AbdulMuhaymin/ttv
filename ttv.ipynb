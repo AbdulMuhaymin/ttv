{
 "cells": [
  {
   "cell_type": "code",
   "execution_count": 6,
   "id": "7397f4df",
   "metadata": {},
   "outputs": [],
   "source": [
    "from bokeh.plotting import save, figure, output_file\n",
    "from bokeh.models import ColumnDataSource, OpenURL, TapTool\n",
    "from bokeh.models.tools import HoverTool\n",
    "from bokeh.transform import factor_cmap\n",
    "from pandas import read_fwf\n",
    "from glob import glob\n",
    "\n",
    "file_list = glob('modified_data/*.txt')\n",
    "\n",
    "for data_file in file_list:        \n",
    "    \n",
    "    output = \"plots/ttv/\" + data_file[14:-4] + \".html\" \n",
    "    output_file(output)\n",
    "    \n",
    "    df = read_fwf(data_file, skiprows=1, header=None, sep=\"\\t+\")\n",
    "    \n",
    "    refined = df.drop(df[df[21] == 1].index)\n",
    "    df = refined.drop(refined[refined[8] == 'ThisStudy'].index)\n",
    "    This = refined.drop(refined[refined[8] != 'ThisStudy'].index)\n",
    "\n",
    "    source = ColumnDataSource(data=dict(\n",
    "            epoch=df[4],\n",
    "            O_C=df[5],\n",
    "            LCType=df[8],\n",
    "            discarded=df[21],\n",
    "            LCFileName=df[22]\n",
    "            ))\n",
    "    \n",
    "    sourceThis = ColumnDataSource(data=dict(\n",
    "        epoch=This[4],\n",
    "        O_C=This[5],\n",
    "        LCType=This[8],\n",
    "        discarded=This[21],\n",
    "        LCFileName=This[22],\n",
    "        img_link='../images/' + This[22] + '.png',\n",
    "        link = '../lc/' + This[22] + '.html'\n",
    "        ))\n",
    "    \n",
    "    p = figure(sizing_mode=\"stretch_both\",\n",
    "                   tools=\"pan, save, reset, wheel_zoom, help\",\n",
    "                   title=\"TTV Diagram for \" + data_file[14:-4],\n",
    "                   x_axis_label = \"Epoch\", \n",
    "                   y_axis_label = \"O-C\")\n",
    "\n",
    "    p.circle('epoch', 'O_C',\n",
    "                 size=10,\n",
    "                 source=source,\n",
    "                 color=factor_cmap('LCType',\n",
    "                                   ['gray', 'turquoise', 'darkblue'],\n",
    "                                   ['Database', 'Literature', 'TESS']),\n",
    "                 legend_group='LCType'\n",
    "                )\n",
    "\n",
    "    p.circle('epoch', 'O_C',\n",
    "                 size=12,\n",
    "                 source=sourceThis,\n",
    "                 color=factor_cmap('LCType',\n",
    "                                   ['red'],\n",
    "                                   ['ThisStudy']),\n",
    "                 name='needsHover', \n",
    "                 legend_group='LCType'\n",
    "                )\n",
    "    \n",
    "    p.legend.title = \"Light Curve Type\"\n",
    "    p.legend.location = \"top_left\"\n",
    "    \n",
    "    hover = HoverTool(names=['needsHover'])\n",
    "\n",
    "    hover.tooltips = \"\"\"\n",
    "      <div>\n",
    "        <h3>@LCFileName</h3>\n",
    "        <div><strong>Click to view this light curve</strong></div>\n",
    "        <div><img src=\"@img_link\" alt=\"Sorry, the image didn't load properly.\" width=\"200\" /></div>\n",
    "      </div>\n",
    "    \"\"\"\n",
    "    p.add_tools(hover)\n",
    "    \n",
    "    url = \"@link\"\n",
    "    tap = TapTool(names=['needsHover'])\n",
    "    tap.callback = OpenURL(url=url)\n",
    "    p.add_tools(tap)\n",
    "    \n",
    "    save(p)"
   ]
  },
  {
   "cell_type": "code",
   "execution_count": 4,
   "id": "31d51ab7",
   "metadata": {},
   "outputs": [],
   "source": [
    "from bokeh.layouts import column, row\n",
    "from bokeh.models import Button, CustomJS, Div"
   ]
  },
  {
   "cell_type": "code",
   "execution_count": 39,
   "id": "5070d80c",
   "metadata": {},
   "outputs": [],
   "source": [
    "file_list = glob('modified_data/*.txt')"
   ]
  },
  {
   "cell_type": "code",
   "execution_count": 44,
   "id": "070353fe",
   "metadata": {},
   "outputs": [
    {
     "data": {
      "text/plain": [
       "'hatp23_oc_modelstats'"
      ]
     },
     "execution_count": 44,
     "metadata": {},
     "output_type": "execute_result"
    }
   ],
   "source": [
    "file_list[0][14:-4]"
   ]
  },
  {
   "cell_type": "code",
   "execution_count": 52,
   "id": "6c9729b4",
   "metadata": {},
   "outputs": [],
   "source": [
    "df = read_fwf(data_file, skiprows=1, header=None, sep=\"\\t+\")"
   ]
  },
  {
   "cell_type": "code",
   "execution_count": 2,
   "id": "9a54bdb1",
   "metadata": {},
   "outputs": [
    {
     "name": "stdout",
     "output_type": "stream",
     "text": [
      "modified_data\\hatp23_oc_modelstats.txt\n",
      "modified_data\\hatp32_oc_modelstats.txt\n",
      "modified_data\\hatp37_oc_modelstats.txt\n",
      "modified_data\\hatp56_oc_modelstats.txt\n",
      "modified_data\\wasp103_oc_modelstats.txt\n",
      "modified_data\\wasp14_oc_modelstats.txt\n",
      "modified_data\\wasp2_oc_modelstats.txt\n",
      "modified_data\\wasp37_oc_modelstats.txt\n",
      "modified_data\\wasp69_oc_modelstats.txt\n",
      "modified_data\\wasp74_oc_modelstats.txt\n"
     ]
    }
   ],
   "source": [
    "for data_file in file_list:\n",
    "    print(data_file)"
   ]
  },
  {
   "cell_type": "code",
   "execution_count": 50,
   "id": "2f972486",
   "metadata": {},
   "outputs": [],
   "source": [
    "data_file = \"modified_data/hatp23_oc_modelstats.txt\""
   ]
  },
  {
   "cell_type": "code",
   "execution_count": 38,
   "id": "a4584e9f",
   "metadata": {},
   "outputs": [],
   "source": [
    "output = \"plots/ttv/\" + data_file[14:-4] + \".html\" \n",
    "output_file(output)\n",
    "\n"
   ]
  },
  {
   "cell_type": "code",
   "execution_count": 5,
   "id": "ee57a28f",
   "metadata": {},
   "outputs": [
    {
     "data": {
      "text/plain": [
       "'modified_data\\\\wasp69_oc_modelstats.txt'"
      ]
     },
     "execution_count": 5,
     "metadata": {},
     "output_type": "execute_result"
    }
   ],
   "source": [
    "data_file"
   ]
  },
  {
   "cell_type": "code",
   "execution_count": 4,
   "id": "66178272",
   "metadata": {},
   "outputs": [
    {
     "ename": "KeyError",
     "evalue": "21",
     "output_type": "error",
     "traceback": [
      "\u001b[1;31m---------------------------------------------------------------------------\u001b[0m",
      "\u001b[1;31mKeyError\u001b[0m                                  Traceback (most recent call last)",
      "File \u001b[1;32m~\\anaconda3\\lib\\site-packages\\pandas\\core\\indexes\\base.py:3621\u001b[0m, in \u001b[0;36mIndex.get_loc\u001b[1;34m(self, key, method, tolerance)\u001b[0m\n\u001b[0;32m   3620\u001b[0m \u001b[38;5;28;01mtry\u001b[39;00m:\n\u001b[1;32m-> 3621\u001b[0m     \u001b[38;5;28;01mreturn\u001b[39;00m \u001b[38;5;28;43mself\u001b[39;49m\u001b[38;5;241;43m.\u001b[39;49m\u001b[43m_engine\u001b[49m\u001b[38;5;241;43m.\u001b[39;49m\u001b[43mget_loc\u001b[49m\u001b[43m(\u001b[49m\u001b[43mcasted_key\u001b[49m\u001b[43m)\u001b[49m\n\u001b[0;32m   3622\u001b[0m \u001b[38;5;28;01mexcept\u001b[39;00m \u001b[38;5;167;01mKeyError\u001b[39;00m \u001b[38;5;28;01mas\u001b[39;00m err:\n",
      "File \u001b[1;32m~\\anaconda3\\lib\\site-packages\\pandas\\_libs\\index.pyx:136\u001b[0m, in \u001b[0;36mpandas._libs.index.IndexEngine.get_loc\u001b[1;34m()\u001b[0m\n",
      "File \u001b[1;32m~\\anaconda3\\lib\\site-packages\\pandas\\_libs\\index.pyx:163\u001b[0m, in \u001b[0;36mpandas._libs.index.IndexEngine.get_loc\u001b[1;34m()\u001b[0m\n",
      "File \u001b[1;32mpandas\\_libs\\hashtable_class_helper.pxi:2131\u001b[0m, in \u001b[0;36mpandas._libs.hashtable.Int64HashTable.get_item\u001b[1;34m()\u001b[0m\n",
      "File \u001b[1;32mpandas\\_libs\\hashtable_class_helper.pxi:2140\u001b[0m, in \u001b[0;36mpandas._libs.hashtable.Int64HashTable.get_item\u001b[1;34m()\u001b[0m\n",
      "\u001b[1;31mKeyError\u001b[0m: 21",
      "\nThe above exception was the direct cause of the following exception:\n",
      "\u001b[1;31mKeyError\u001b[0m                                  Traceback (most recent call last)",
      "Input \u001b[1;32mIn [4]\u001b[0m, in \u001b[0;36m<cell line: 1>\u001b[1;34m()\u001b[0m\n\u001b[1;32m----> 1\u001b[0m refined \u001b[38;5;241m=\u001b[39m df\u001b[38;5;241m.\u001b[39mdrop(df[\u001b[43mdf\u001b[49m\u001b[43m[\u001b[49m\u001b[38;5;241;43m21\u001b[39;49m\u001b[43m]\u001b[49m \u001b[38;5;241m==\u001b[39m \u001b[38;5;241m1\u001b[39m]\u001b[38;5;241m.\u001b[39mindex)\n\u001b[0;32m      2\u001b[0m df \u001b[38;5;241m=\u001b[39m refined\u001b[38;5;241m.\u001b[39mdrop(refined[refined[\u001b[38;5;241m8\u001b[39m] \u001b[38;5;241m==\u001b[39m \u001b[38;5;124m'\u001b[39m\u001b[38;5;124mThisStudy\u001b[39m\u001b[38;5;124m'\u001b[39m]\u001b[38;5;241m.\u001b[39mindex)\n\u001b[0;32m      3\u001b[0m This \u001b[38;5;241m=\u001b[39m refined\u001b[38;5;241m.\u001b[39mdrop(refined[refined[\u001b[38;5;241m8\u001b[39m] \u001b[38;5;241m!=\u001b[39m \u001b[38;5;124m'\u001b[39m\u001b[38;5;124mThisStudy\u001b[39m\u001b[38;5;124m'\u001b[39m]\u001b[38;5;241m.\u001b[39mindex)\n",
      "File \u001b[1;32m~\\anaconda3\\lib\\site-packages\\pandas\\core\\frame.py:3505\u001b[0m, in \u001b[0;36mDataFrame.__getitem__\u001b[1;34m(self, key)\u001b[0m\n\u001b[0;32m   3503\u001b[0m \u001b[38;5;28;01mif\u001b[39;00m \u001b[38;5;28mself\u001b[39m\u001b[38;5;241m.\u001b[39mcolumns\u001b[38;5;241m.\u001b[39mnlevels \u001b[38;5;241m>\u001b[39m \u001b[38;5;241m1\u001b[39m:\n\u001b[0;32m   3504\u001b[0m     \u001b[38;5;28;01mreturn\u001b[39;00m \u001b[38;5;28mself\u001b[39m\u001b[38;5;241m.\u001b[39m_getitem_multilevel(key)\n\u001b[1;32m-> 3505\u001b[0m indexer \u001b[38;5;241m=\u001b[39m \u001b[38;5;28;43mself\u001b[39;49m\u001b[38;5;241;43m.\u001b[39;49m\u001b[43mcolumns\u001b[49m\u001b[38;5;241;43m.\u001b[39;49m\u001b[43mget_loc\u001b[49m\u001b[43m(\u001b[49m\u001b[43mkey\u001b[49m\u001b[43m)\u001b[49m\n\u001b[0;32m   3506\u001b[0m \u001b[38;5;28;01mif\u001b[39;00m is_integer(indexer):\n\u001b[0;32m   3507\u001b[0m     indexer \u001b[38;5;241m=\u001b[39m [indexer]\n",
      "File \u001b[1;32m~\\anaconda3\\lib\\site-packages\\pandas\\core\\indexes\\base.py:3623\u001b[0m, in \u001b[0;36mIndex.get_loc\u001b[1;34m(self, key, method, tolerance)\u001b[0m\n\u001b[0;32m   3621\u001b[0m     \u001b[38;5;28;01mreturn\u001b[39;00m \u001b[38;5;28mself\u001b[39m\u001b[38;5;241m.\u001b[39m_engine\u001b[38;5;241m.\u001b[39mget_loc(casted_key)\n\u001b[0;32m   3622\u001b[0m \u001b[38;5;28;01mexcept\u001b[39;00m \u001b[38;5;167;01mKeyError\u001b[39;00m \u001b[38;5;28;01mas\u001b[39;00m err:\n\u001b[1;32m-> 3623\u001b[0m     \u001b[38;5;28;01mraise\u001b[39;00m \u001b[38;5;167;01mKeyError\u001b[39;00m(key) \u001b[38;5;28;01mfrom\u001b[39;00m \u001b[38;5;21;01merr\u001b[39;00m\n\u001b[0;32m   3624\u001b[0m \u001b[38;5;28;01mexcept\u001b[39;00m \u001b[38;5;167;01mTypeError\u001b[39;00m:\n\u001b[0;32m   3625\u001b[0m     \u001b[38;5;66;03m# If we have a listlike key, _check_indexing_error will raise\u001b[39;00m\n\u001b[0;32m   3626\u001b[0m     \u001b[38;5;66;03m#  InvalidIndexError. Otherwise we fall through and re-raise\u001b[39;00m\n\u001b[0;32m   3627\u001b[0m     \u001b[38;5;66;03m#  the TypeError.\u001b[39;00m\n\u001b[0;32m   3628\u001b[0m     \u001b[38;5;28mself\u001b[39m\u001b[38;5;241m.\u001b[39m_check_indexing_error(key)\n",
      "\u001b[1;31mKeyError\u001b[0m: 21"
     ]
    }
   ],
   "source": [
    "refined = df.drop(df[df[21] == 1].index)\n",
    "df = refined.drop(refined[refined[8] == 'ThisStudy'].index)\n",
    "This = refined.drop(refined[refined[8] != 'ThisStudy'].index)"
   ]
  },
  {
   "cell_type": "code",
   "execution_count": 28,
   "id": "40515719",
   "metadata": {},
   "outputs": [],
   "source": [
    "source = ColumnDataSource(data=dict(\n",
    "        epoch=df[4],\n",
    "        O_C=df[5],\n",
    "        LCType=df[8],\n",
    "        discarded=df[21],\n",
    "        LCFileName=df[22]\n",
    "        ))"
   ]
  },
  {
   "cell_type": "code",
   "execution_count": 29,
   "id": "701d319e",
   "metadata": {},
   "outputs": [
    {
     "data": {
      "text/html": [
       "<div>\n",
       "<style scoped>\n",
       "    .dataframe tbody tr th:only-of-type {\n",
       "        vertical-align: middle;\n",
       "    }\n",
       "\n",
       "    .dataframe tbody tr th {\n",
       "        vertical-align: top;\n",
       "    }\n",
       "\n",
       "    .dataframe thead th {\n",
       "        text-align: right;\n",
       "    }\n",
       "</style>\n",
       "<table border=\"1\" class=\"dataframe\">\n",
       "  <thead>\n",
       "    <tr style=\"text-align: right;\">\n",
       "      <th></th>\n",
       "      <th>0</th>\n",
       "      <th>1</th>\n",
       "      <th>2</th>\n",
       "      <th>3</th>\n",
       "      <th>4</th>\n",
       "      <th>5</th>\n",
       "      <th>6</th>\n",
       "      <th>7</th>\n",
       "      <th>8</th>\n",
       "      <th>9</th>\n",
       "      <th>...</th>\n",
       "      <th>13</th>\n",
       "      <th>14</th>\n",
       "      <th>15</th>\n",
       "      <th>16</th>\n",
       "      <th>17</th>\n",
       "      <th>18</th>\n",
       "      <th>19</th>\n",
       "      <th>20</th>\n",
       "      <th>21</th>\n",
       "      <th>22</th>\n",
       "    </tr>\n",
       "  </thead>\n",
       "  <tbody>\n",
       "    <tr>\n",
       "      <th>78</th>\n",
       "      <td>2456930.0</td>\n",
       "      <td>0.000181</td>\n",
       "      <td>2456930.0</td>\n",
       "      <td>0.000181</td>\n",
       "      <td>1710</td>\n",
       "      <td>0.004552</td>\n",
       "      <td>-0.000352</td>\n",
       "      <td>R</td>\n",
       "      <td>ThisStudy</td>\n",
       "      <td>0.013835</td>\n",
       "      <td>...</td>\n",
       "      <td>0.000363</td>\n",
       "      <td>0.012073</td>\n",
       "      <td>0.000629</td>\n",
       "      <td>0.53</td>\n",
       "      <td>0.36</td>\n",
       "      <td>0.000662</td>\n",
       "      <td>0.886539</td>\n",
       "      <td>BC00000</td>\n",
       "      <td>0</td>\n",
       "      <td>hatp23_20140925_T100</td>\n",
       "    </tr>\n",
       "    <tr>\n",
       "      <th>79</th>\n",
       "      <td>2457260.0</td>\n",
       "      <td>0.000259</td>\n",
       "      <td>2457260.0</td>\n",
       "      <td>0.000259</td>\n",
       "      <td>1988</td>\n",
       "      <td>0.005488</td>\n",
       "      <td>-0.000060</td>\n",
       "      <td>R</td>\n",
       "      <td>ThisStudy</td>\n",
       "      <td>0.013898</td>\n",
       "      <td>...</td>\n",
       "      <td>0.000518</td>\n",
       "      <td>0.012678</td>\n",
       "      <td>0.000897</td>\n",
       "      <td>0.34</td>\n",
       "      <td>2.29</td>\n",
       "      <td>0.002059</td>\n",
       "      <td>1.594380</td>\n",
       "      <td>BC00000</td>\n",
       "      <td>0</td>\n",
       "      <td>hatp23_20150828_CAHA</td>\n",
       "    </tr>\n",
       "    <tr>\n",
       "      <th>80</th>\n",
       "      <td>2458700.0</td>\n",
       "      <td>0.001378</td>\n",
       "      <td>2458700.0</td>\n",
       "      <td>0.001378</td>\n",
       "      <td>3176</td>\n",
       "      <td>0.007697</td>\n",
       "      <td>-0.000602</td>\n",
       "      <td>R</td>\n",
       "      <td>ThisStudy</td>\n",
       "      <td>0.013452</td>\n",
       "      <td>...</td>\n",
       "      <td>0.002756</td>\n",
       "      <td>0.009895</td>\n",
       "      <td>0.004773</td>\n",
       "      <td>0.55</td>\n",
       "      <td>10.26</td>\n",
       "      <td>0.009542</td>\n",
       "      <td>1.055230</td>\n",
       "      <td>BC00000</td>\n",
       "      <td>0</td>\n",
       "      <td>hatp23_20190808_T35</td>\n",
       "    </tr>\n",
       "  </tbody>\n",
       "</table>\n",
       "<p>3 rows × 23 columns</p>\n",
       "</div>"
      ],
      "text/plain": [
       "           0         1          2         3     4         5         6  7   \\\n",
       "78  2456930.0  0.000181  2456930.0  0.000181  1710  0.004552 -0.000352  R   \n",
       "79  2457260.0  0.000259  2457260.0  0.000259  1988  0.005488 -0.000060  R   \n",
       "80  2458700.0  0.001378  2458700.0  0.001378  3176  0.007697 -0.000602  R   \n",
       "\n",
       "           8         9   ...        13        14        15    16     17  \\\n",
       "78  ThisStudy  0.013835  ...  0.000363  0.012073  0.000629  0.53   0.36   \n",
       "79  ThisStudy  0.013898  ...  0.000518  0.012678  0.000897  0.34   2.29   \n",
       "80  ThisStudy  0.013452  ...  0.002756  0.009895  0.004773  0.55  10.26   \n",
       "\n",
       "          18        19       20  21                    22  \n",
       "78  0.000662  0.886539  BC00000   0  hatp23_20140925_T100  \n",
       "79  0.002059  1.594380  BC00000   0  hatp23_20150828_CAHA  \n",
       "80  0.009542  1.055230  BC00000   0   hatp23_20190808_T35  \n",
       "\n",
       "[3 rows x 23 columns]"
      ]
     },
     "execution_count": 29,
     "metadata": {},
     "output_type": "execute_result"
    }
   ],
   "source": [
    "This"
   ]
  },
  {
   "cell_type": "code",
   "execution_count": 30,
   "id": "fd2d78a1",
   "metadata": {},
   "outputs": [],
   "source": [
    "sourceThis = ColumnDataSource(data=dict(\n",
    "        epoch=This[4],\n",
    "        O_C=This[5],\n",
    "        discarded=This[21],\n",
    "        LCFileName=This[22],\n",
    "        img_link='../images/' + This[22] + '.png',\n",
    "        link = '../lc/' + This[22] + '.html'\n",
    "        ))"
   ]
  },
  {
   "cell_type": "code",
   "execution_count": 31,
   "id": "8259d29d",
   "metadata": {},
   "outputs": [
    {
     "data": {
      "text/html": [
       "<div style=\"display: table;\"><div style=\"display: table-row;\"><div style=\"display: table-cell;\"><b title=\"bokeh.models.renderers.GlyphRenderer\">GlyphRenderer</b>(</div><div style=\"display: table-cell;\">id&nbsp;=&nbsp;'1476', <span id=\"1479\" style=\"cursor: pointer;\">&hellip;)</span></div></div><div class=\"1478\" style=\"display: none;\"><div style=\"display: table-cell;\"></div><div style=\"display: table-cell;\">coordinates&nbsp;=&nbsp;None,</div></div><div class=\"1478\" style=\"display: none;\"><div style=\"display: table-cell;\"></div><div style=\"display: table-cell;\">data_source&nbsp;=&nbsp;ColumnDataSource(id='1422', ...),</div></div><div class=\"1478\" style=\"display: none;\"><div style=\"display: table-cell;\"></div><div style=\"display: table-cell;\">glyph&nbsp;=&nbsp;Circle(id='1473', ...),</div></div><div class=\"1478\" style=\"display: none;\"><div style=\"display: table-cell;\"></div><div style=\"display: table-cell;\">group&nbsp;=&nbsp;None,</div></div><div class=\"1478\" style=\"display: none;\"><div style=\"display: table-cell;\"></div><div style=\"display: table-cell;\">hover_glyph&nbsp;=&nbsp;None,</div></div><div class=\"1478\" style=\"display: none;\"><div style=\"display: table-cell;\"></div><div style=\"display: table-cell;\">js_event_callbacks&nbsp;=&nbsp;{},</div></div><div class=\"1478\" style=\"display: none;\"><div style=\"display: table-cell;\"></div><div style=\"display: table-cell;\">js_property_callbacks&nbsp;=&nbsp;{},</div></div><div class=\"1478\" style=\"display: none;\"><div style=\"display: table-cell;\"></div><div style=\"display: table-cell;\">level&nbsp;=&nbsp;'glyph',</div></div><div class=\"1478\" style=\"display: none;\"><div style=\"display: table-cell;\"></div><div style=\"display: table-cell;\">muted&nbsp;=&nbsp;False,</div></div><div class=\"1478\" style=\"display: none;\"><div style=\"display: table-cell;\"></div><div style=\"display: table-cell;\">muted_glyph&nbsp;=&nbsp;Circle(id='1475', ...),</div></div><div class=\"1478\" style=\"display: none;\"><div style=\"display: table-cell;\"></div><div style=\"display: table-cell;\">name&nbsp;=&nbsp;'needsHover',</div></div><div class=\"1478\" style=\"display: none;\"><div style=\"display: table-cell;\"></div><div style=\"display: table-cell;\">nonselection_glyph&nbsp;=&nbsp;Circle(id='1474', ...),</div></div><div class=\"1478\" style=\"display: none;\"><div style=\"display: table-cell;\"></div><div style=\"display: table-cell;\">selection_glyph&nbsp;=&nbsp;'auto',</div></div><div class=\"1478\" style=\"display: none;\"><div style=\"display: table-cell;\"></div><div style=\"display: table-cell;\">subscribed_events&nbsp;=&nbsp;[],</div></div><div class=\"1478\" style=\"display: none;\"><div style=\"display: table-cell;\"></div><div style=\"display: table-cell;\">syncable&nbsp;=&nbsp;True,</div></div><div class=\"1478\" style=\"display: none;\"><div style=\"display: table-cell;\"></div><div style=\"display: table-cell;\">tags&nbsp;=&nbsp;[],</div></div><div class=\"1478\" style=\"display: none;\"><div style=\"display: table-cell;\"></div><div style=\"display: table-cell;\">view&nbsp;=&nbsp;CDSView(id='1477', ...),</div></div><div class=\"1478\" style=\"display: none;\"><div style=\"display: table-cell;\"></div><div style=\"display: table-cell;\">visible&nbsp;=&nbsp;True,</div></div><div class=\"1478\" style=\"display: none;\"><div style=\"display: table-cell;\"></div><div style=\"display: table-cell;\">x_range_name&nbsp;=&nbsp;'default',</div></div><div class=\"1478\" style=\"display: none;\"><div style=\"display: table-cell;\"></div><div style=\"display: table-cell;\">y_range_name&nbsp;=&nbsp;'default')</div></div></div>\n",
       "<script>\n",
       "(function() {\n",
       "  let expanded = false;\n",
       "  const ellipsis = document.getElementById(\"1479\");\n",
       "  ellipsis.addEventListener(\"click\", function() {\n",
       "    const rows = document.getElementsByClassName(\"1478\");\n",
       "    for (let i = 0; i < rows.length; i++) {\n",
       "      const el = rows[i];\n",
       "      el.style.display = expanded ? \"none\" : \"table-row\";\n",
       "    }\n",
       "    ellipsis.innerHTML = expanded ? \"&hellip;)\" : \"&lsaquo;&lsaquo;&lsaquo;\";\n",
       "    expanded = !expanded;\n",
       "  });\n",
       "})();\n",
       "</script>\n"
      ],
      "text/plain": [
       "GlyphRenderer(id='1476', ...)"
      ]
     },
     "execution_count": 31,
     "metadata": {},
     "output_type": "execute_result"
    }
   ],
   "source": [
    "p = figure(sizing_mode=\"stretch_both\",\n",
    "               tools=\"pan, save, reset, wheel_zoom, help\",\n",
    "               title=\"TTV Diagram for \" + data_file[4:-4],\n",
    "               x_axis_label = \"Epoch\", \n",
    "               y_axis_label = \"O-C\")\n",
    "    \n",
    "p.circle('epoch', 'O_C',\n",
    "             size=10,\n",
    "             source=source,\n",
    "             color=factor_cmap('LCType',\n",
    "                               ['gray', 'turquoise', 'red', 'darkblue'],\n",
    "                               ['Database', 'Literature', 'ThisStudy', 'TESS']),\n",
    "             legend_group='LCType'\n",
    "            )\n",
    "\n",
    "p.circle('epoch', 'O_C',\n",
    "             size=12,\n",
    "             source=sourceThis,\n",
    "             color='red',\n",
    "             name='needsHover'\n",
    "            )"
   ]
  },
  {
   "cell_type": "code",
   "execution_count": 32,
   "id": "b8a8934a",
   "metadata": {},
   "outputs": [],
   "source": [
    "p.legend.title = \"Light Curve Type\"\n",
    "p.legend.location = \"top_left\""
   ]
  },
  {
   "cell_type": "code",
   "execution_count": 33,
   "id": "58f18fca",
   "metadata": {},
   "outputs": [],
   "source": [
    "hover = HoverTool(names=['needsHover'])\n",
    "\n",
    "hover.tooltips = \"\"\"\n",
    "      <div>\n",
    "        <h3>@LCFileName</h3>\n",
    "        <div><strong>Click to view this light curve</strong></div>\n",
    "        <div><img src=\"@img_link\" alt=\"Sorry, the image didn't load properly.\" width=\"200\" /></div>\n",
    "      </div>\n",
    "    \"\"\"\n",
    "p.add_tools(hover)"
   ]
  },
  {
   "cell_type": "code",
   "execution_count": 34,
   "id": "a0afc068",
   "metadata": {},
   "outputs": [],
   "source": [
    "url = \"@link\"\n",
    "tap = TapTool(names=['needsHover'])\n",
    "tap.callback = OpenURL(url=url)\n",
    "p.add_tools(tap)"
   ]
  },
  {
   "cell_type": "code",
   "execution_count": 35,
   "id": "ec10b715",
   "metadata": {},
   "outputs": [],
   "source": [
    "show(p)"
   ]
  },
  {
   "cell_type": "code",
   "execution_count": null,
   "id": "d1e24f90",
   "metadata": {},
   "outputs": [],
   "source": []
  }
 ],
 "metadata": {
  "kernelspec": {
   "display_name": "Python 3 (ipykernel)",
   "language": "python",
   "name": "python3"
  },
  "language_info": {
   "codemirror_mode": {
    "name": "ipython",
    "version": 3
   },
   "file_extension": ".py",
   "mimetype": "text/x-python",
   "name": "python",
   "nbconvert_exporter": "python",
   "pygments_lexer": "ipython3",
   "version": "3.9.12"
  }
 },
 "nbformat": 4,
 "nbformat_minor": 5
}
