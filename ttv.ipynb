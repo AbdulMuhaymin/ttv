{
 "cells": [
  {
   "cell_type": "markdown",
   "id": "81985ab6",
   "metadata": {},
   "source": [
    "# Code to plot the TTV diagram (Residual from the linear fit vs epoch)"
   ]
  },
  {
   "cell_type": "markdown",
   "id": "941486d7",
   "metadata": {},
   "source": [
    "Importing all the necessary packages. In this project, we basically used glob, pandas and bokeh. However, we didn't import the whole package. Instead we imported only the function that we need."
   ]
  },
  {
   "cell_type": "code",
   "execution_count": 4,
   "id": "72c69986",
   "metadata": {},
   "outputs": [],
   "source": [
    "from glob import glob\n",
    "from pandas import read_fwf\n",
    "from bokeh.plotting import save, figure, output_file, show\n",
    "from bokeh.models import ColumnDataSource, OpenURL, TapTool, BasicTickFormatter\n",
    "from bokeh.models.tools import HoverTool\n",
    "from bokeh.transform import factor_cmap\n",
    "from bokeh.io import export_png"
   ]
  },
  {
   "cell_type": "markdown",
   "id": "bdfd4f9a",
   "metadata": {},
   "source": [
    "First, we fetch all the data files that is in \"modified_data\" folder. In the modified data folder, we added one more column to the original data file. This column indictes a light curve name for each 'ThisStudy' and just a random garbage value for others."
   ]
  },
  {
   "cell_type": "code",
   "execution_count": 5,
   "id": "c7c67979",
   "metadata": {},
   "outputs": [],
   "source": [
    "file_list = glob('data/mod_data/*.txt')"
   ]
  },
  {
   "cell_type": "markdown",
   "id": "1acd36e7",
   "metadata": {},
   "source": [
    "Then for each TTV data file, we plotted the linear residual (min) vs epoch (cycle). Here, we also added a hover effect and link to the light curve for 'ThisStudy' LCType. Follow the code comment for details."
   ]
  },
  {
   "cell_type": "code",
   "execution_count": 6,
   "id": "0197ea6b",
   "metadata": {},
   "outputs": [],
   "source": [
    "for data_file in file_list:        \n",
    "    \n",
    "    output = \"plots/ttv/\" + data_file[14:-4] + \".html\"\n",
    "    output_file(output)\n",
    "\n",
    "    end = data_file.find('_oc')\n",
    "    if data_file[14:18] == \"hatp\":\n",
    "        name = \"HAT-P-\" + data_file[18:end]\n",
    "    elif data_file[14:18] == \"wasp\":\n",
    "        name = \"WASP-\" + data_file[18:end]\n",
    "\n",
    "    ref = read_fwf(data_file, skiprows=1, header=None, sep=\"\\t+\")\n",
    "    ref = ref.drop(ref[ref[21] == 1].index)\n",
    "\n",
    "    df = ref.drop(ref[ref[8] == 'ThisStudy'].index)\n",
    "    this = ref.drop(ref[ref[8] != 'ThisStudy'].index)\n",
    "\n",
    "    source = ColumnDataSource(data=dict(\n",
    "                epoch = df[4],\n",
    "                res = df[6]*1440,\n",
    "                LCType = df[8], \n",
    "                err_l = (df[6] - df[1])*1440,\n",
    "                err_h = (df[6] + df[1])*1440,\n",
    "        \n",
    "                img_link = \"../../\" + df[22] + \"preview.png\",\n",
    "                link = \"../../\" + df[22] + \"preview.html\"\n",
    "            ))\n",
    "\n",
    "    sourceThis = ColumnDataSource(data=dict(\n",
    "                epoch=this[4],\n",
    "                res=this[6]*1440,\n",
    "                LCType=this[8], \n",
    "                err_l = (this[6] - this[1])*1440,\n",
    "                err_h = (this[6] + this[1])*1440,\n",
    "    \n",
    "                img_link = \"../../\" + this[22] + \"lc.png\",\n",
    "                link = \"../../\" + this[23] + \"preview.html\"\n",
    "            ))\n",
    "\n",
    "    p = figure(sizing_mode=\"stretch_both\",                             \n",
    "        tools=\"pan, box_zoom, save, reset, wheel_zoom, help\", \n",
    "        title=\"TTV Diagram for \" + name,\n",
    "        x_axis_label = \"Epoch (cycle)\", \n",
    "        y_axis_label = \"O-C (min)\")\n",
    "\n",
    "    p.segment(x0=df[4],\n",
    "        y0=(df[6] - df[1])*1440,\n",
    "        x1=df[4],\n",
    "        y1=(df[6] + df[1])*1440,\n",
    "        color = 'black'\n",
    "        )\n",
    "\n",
    "    p.segment(x0=df[4],\n",
    "        y0=(df[6] - df[1])*1440,\n",
    "        x1=df[4],\n",
    "        y1=(df[6] + df[1])*1440,\n",
    "        color = 'black'\n",
    "        )\n",
    "\n",
    "    p.circle('epoch', 'res',                                         \n",
    "                size=10,                                              \n",
    "                source=source,                                        \n",
    "                color=factor_cmap('LCType',\n",
    "                                ['gray', 'turquoise', 'darkblue'],\n",
    "                                ['Database', 'Literature', 'TESS']),\n",
    "                legend_group = 'LCType', \n",
    "                name = \"needsHover\"\n",
    "            )\n",
    "\n",
    "    p.circle('epoch', 'res',                     \n",
    "                size=12,\n",
    "                source=sourceThis,\n",
    "                color=factor_cmap('LCType',\n",
    "                                ['red'],\n",
    "                                ['ThisStudy']),\n",
    "                legend_group='LCType',\n",
    "                name = \"needsHover\"\n",
    "        )\n",
    "    \n",
    "    p.legend.title = \"Light Curve Type\"\n",
    "    p.legend.location = \"top_left\" \n",
    "\n",
    "    hover = HoverTool(names=['needsHover'])\n",
    "    hover.tooltips = \"\"\"\n",
    "              <div>\n",
    "                <h3>{title} </h3>\n",
    "                <div><strong>Click to see the details</strong></div>\n",
    "                <div><img src=\"@img_link\" alt=\"Sorry, the image couldn't load properly. If you see this message, please let the administrator know.\" width=\"200\" /></div>\n",
    "              </div>\n",
    "            \"\"\".format(title = \"Light Curve Preview\")\n",
    "    p.add_tools(hover)\n",
    "\n",
    "    url = \"@link\"\n",
    "    tap = TapTool(names = [\"needsHover\"]) \n",
    "    tap.callback = OpenURL(url=url)\n",
    "    p.add_tools(tap)\n",
    "\n",
    "    p.xaxis.axis_label_text_font_size = \"15pt\"\n",
    "    p.yaxis.axis_label_text_font_size = \"15pt\"\n",
    "    p.xaxis.major_label_text_font_size = \"15pt\"\n",
    "    p.yaxis.major_label_text_font_size = \"15pt\"\n",
    "    p.xaxis.formatter = BasicTickFormatter(use_scientific=False)\n",
    "    p.yaxis.formatter = BasicTickFormatter(use_scientific=False)\n",
    "    p.title.text_font_size = '20pt'\n",
    "    p.legend.label_text_font_size = '13pt'\n",
    "    p.legend.title_text_font_size = '14pt'\n",
    "\n",
    "    #export_png(p, filename=\"plots/ttv_images/\" + data_file[14:-4] + \".png\") # exporting as png image to use in the homepage\n",
    "    save(p)"
   ]
  },
  {
   "cell_type": "code",
   "execution_count": 24,
   "id": "f628cce7",
   "metadata": {},
   "outputs": [],
   "source": []
  },
  {
   "cell_type": "code",
   "execution_count": null,
   "id": "3bb4cd72",
   "metadata": {},
   "outputs": [],
   "source": []
  }
 ],
 "metadata": {
  "kernelspec": {
   "display_name": "Python 3 (ipykernel)",
   "language": "python",
   "name": "python3"
  },
  "language_info": {
   "codemirror_mode": {
    "name": "ipython",
    "version": 3
   },
   "file_extension": ".py",
   "mimetype": "text/x-python",
   "name": "python",
   "nbconvert_exporter": "python",
   "pygments_lexer": "ipython3",
   "version": "3.9.12"
  }
 },
 "nbformat": 4,
 "nbformat_minor": 5
}
