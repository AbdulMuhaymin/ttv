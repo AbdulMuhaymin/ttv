{
 "cells": [
  {
   "cell_type": "code",
   "execution_count": 7,
   "id": "31cba716",
   "metadata": {},
   "outputs": [],
   "source": [
    "from bokeh.plotting import save, figure, output_file\n",
    "import pandas\n",
    "import glob\n",
    "\n",
    "filelist = glob.glob('*.txt')\n",
    "\n",
    "    for file in filelist:\n",
    "\n",
    "    output_file(\"plots/wasp103_oc_modelstats.html\")\n",
    "\n",
    "    df = pandas.read_fwf(\"ttv/wasp103_oc_modelstats.txt\", skiprows=34, header=None, sep=\"\\s+\")\n",
    "\n",
    "    p = figure(sizing_mode=\"stretch_both\",\n",
    "               width=800, height = 600,\n",
    "               tools=\"pan, tap, save, reset, wheel_zoom, help,\",\n",
    "               title=\"O-C data for WASP-74b\",\n",
    "               x_axis_label = \"Epoch of Observation\", \n",
    "               y_axis_label = \"O-C\")\n",
    "\n",
    "\n",
    "\n",
    "    source = ColumnDataSource(data=dict(\n",
    "        x=df[4],\n",
    "        y=df[5],\n",
    "        ))\n",
    "\n",
    "    p.circle('x', 'y', size=20, source=source)\n",
    "    save(p)"
   ]
  },
  {
   "cell_type": "code",
   "execution_count": null,
   "id": "03167fc6",
   "metadata": {},
   "outputs": [],
   "source": []
  }
 ],
 "metadata": {
  "kernelspec": {
   "display_name": "Python 3 (ipykernel)",
   "language": "python",
   "name": "python3"
  },
  "language_info": {
   "codemirror_mode": {
    "name": "ipython",
    "version": 3
   },
   "file_extension": ".py",
   "mimetype": "text/x-python",
   "name": "python",
   "nbconvert_exporter": "python",
   "pygments_lexer": "ipython3",
   "version": "3.9.12"
  }
 },
 "nbformat": 4,
 "nbformat_minor": 5
}
