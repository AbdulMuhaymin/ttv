{
 "cells": [
  {
   "cell_type": "code",
   "execution_count": 6,
   "id": "31cba716",
   "metadata": {},
   "outputs": [],
   "source": [
    "from bokeh.plotting import save, figure, output_file, show\n",
    "from bokeh.models import ColumnDataSource\n",
    "import pandas\n",
    "import glob\n",
    "\n",
    "file_list = glob.glob('*.txt')\n",
    "\n",
    "for data_file in file_list:        \n",
    "    \n",
    "    output = \"plots/\" + data_file[:-4] + \".html\" \n",
    "    output_file(output)\n",
    "\n",
    "    df = pandas.read_fwf(data_file, skiprows=15, header=None, sep=\"\\s+\")\n",
    "    source = ColumnDataSource(data=dict(\n",
    "        x=df[0],\n",
    "        y=df[1],\n",
    "        ))\n",
    "    \n",
    "    p = figure(sizing_mode=\"stretch_both\",\n",
    "               width=800, height = 600,\n",
    "               tools=\"pan, save, reset, wheel_zoom, help\",\n",
    "               title=\"Light Curve data for \" + data_file[:-4],\n",
    "               x_axis_label = \"Barycentric Dynamical Time (JD)\", \n",
    "               y_axis_label = \"Normalized Flux\")\n",
    "    \n",
    "    p.dot('x', 'y', size=20, source=source)\n",
    "    \n",
    "    df['error_low'] = df[1] - 1.96*df[2]\n",
    "    df['error_high'] = df[1] + 1.96*df[2]\n",
    "\n",
    "    p.segment(\n",
    "        x0=df[0],\n",
    "        y0=df['error_low'],\n",
    "        x1=df[0],\n",
    "        y1=df['error_high']\n",
    "    )\n",
    "    \n",
    "    save(p)"
   ]
  },
  {
   "cell_type": "code",
   "execution_count": null,
   "id": "03167fc6",
   "metadata": {},
   "outputs": [],
   "source": []
  }
 ],
 "metadata": {
  "kernelspec": {
   "display_name": "Python 3 (ipykernel)",
   "language": "python",
   "name": "python3"
  },
  "language_info": {
   "codemirror_mode": {
    "name": "ipython",
    "version": 3
   },
   "file_extension": ".py",
   "mimetype": "text/x-python",
   "name": "python",
   "nbconvert_exporter": "python",
   "pygments_lexer": "ipython3",
   "version": "3.9.12"
  }
 },
 "nbformat": 4,
 "nbformat_minor": 5
}
