{
 "cells": [
  {
   "cell_type": "code",
   "execution_count": 11,
   "id": "7397f4df",
   "metadata": {},
   "outputs": [],
   "source": [
    "from bokeh.plotting import save, figure, output_file\n",
    "from bokeh.models import ColumnDataSource, OpenURL, TapTool\n",
    "from bokeh.models.tools import HoverTool\n",
    "from bokeh.transform import factor_cmap, factor_mark\n",
    "from pandas import read_fwf\n",
    "from glob import glob\n",
    "\n",
    "file_list = glob('ttv/*.txt')\n",
    "\n",
    "for data_file in file_list:        \n",
    "    \n",
    "    output = \"plots/ttv/\" + data_file[4:-4] + \".html\" \n",
    "    output_file(output)\n",
    "\n",
    "    df = read_fwf(data_file, skiprows=34, header=None, sep=\"\\t+\")\n",
    "    source = ColumnDataSource(data=dict(\n",
    "        epoch=df[4],\n",
    "        O_C=df[5],\n",
    "        LCType=df[8],\n",
    "        discarded=df[21]\n",
    "        ))\n",
    "    \n",
    "    df = df.drop(df[df[21] == 1].index)\n",
    "    \n",
    "    p = figure(sizing_mode=\"stretch_both\",\n",
    "               tools=\"pan, save, reset, wheel_zoom, help\",\n",
    "               title=\"TTV Diagram for \" + data_file[4:-4],\n",
    "               x_axis_label = \"Epoch\", \n",
    "               y_axis_label = \"O-C\")\n",
    "    \n",
    "    p.circle('epoch', 'O_C',\n",
    "             size=10,\n",
    "             source=source,\n",
    "             color=factor_cmap('LCType',\n",
    "                               ['gray', 'turquoise', 'red', 'darkblue'],\n",
    "                               ['Database', 'Literature', 'ThisStudy', 'TESS']),\n",
    "             legend_group='LCType'\n",
    "            )\n",
    "    \n",
    "    p.legend.title = \"Light Curve Type\"\n",
    "    p.legend.location = \"top_left\"\n",
    "    \n",
    "    \n",
    "    \n",
    "    # hover = HoverTool()\n",
    "    # hover.tooltips = \"\"\"\n",
    "    #   <div>\n",
    "    #     <h3>@Car</h3>\n",
    "    #     <div><strong>Price: </strong>@Price</div>\n",
    "    #     <div><strong>HP: </strong>@Horsepower</div>\n",
    "    #     <div><img src= alt=\"\" width=\"200\" /></div>\n",
    "    #   </div>\n",
    "    # \"\"\"\n",
    "    # p.add_tools(hover)\n",
    "    \n",
    "    save(p)"
   ]
  },
  {
   "cell_type": "code",
   "execution_count": null,
   "id": "2f972486",
   "metadata": {},
   "outputs": [],
   "source": []
  }
 ],
 "metadata": {
  "kernelspec": {
   "display_name": "Python 3 (ipykernel)",
   "language": "python",
   "name": "python3"
  },
  "language_info": {
   "codemirror_mode": {
    "name": "ipython",
    "version": 3
   },
   "file_extension": ".py",
   "mimetype": "text/x-python",
   "name": "python",
   "nbconvert_exporter": "python",
   "pygments_lexer": "ipython3",
   "version": "3.9.12"
  }
 },
 "nbformat": 4,
 "nbformat_minor": 5
}
