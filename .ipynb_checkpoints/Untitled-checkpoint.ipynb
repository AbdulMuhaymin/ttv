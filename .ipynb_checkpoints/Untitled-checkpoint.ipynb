{
 "cells": [
  {
   "cell_type": "code",
   "execution_count": 7,
   "id": "31cba716",
   "metadata": {},
   "outputs": [],
   "source": [
    "from bokeh.plotting import save, show, figure, output_file\n",
    "import pandas\n",
    "from bokeh.models import ColumnDataSource, OpenURL, TapTool, HoverTool\n",
    "import glob\n",
    "\n",
    "filelist = glob.glob('*.txt')\n",
    "\n",
    "output_file(\"ttv/wasp103_oc_modelstats.html\")\n",
    "\n",
    "df = pandas.read_fwf(\"ttv/wasp103_oc_modelstats.txt\", skiprows=34, header=None, sep=\"\\s+\")\n",
    "\n",
    "p = figure(sizing_mode=\"stretch_both\",\n",
    "           width=800, height = 600,\n",
    "           tools=\"pan, tap, save, reset, wheel_zoom, help,\",\n",
    "           title=\"O-C data for WASP-74b\",\n",
    "           x_axis_label = \"Epoch of Observation\", \n",
    "           y_axis_label = \"O-C\")\n",
    "\n",
    "\n",
    "\n",
    "source = ColumnDataSource(data=dict(\n",
    "    x=df[4],\n",
    "    y=df[5],\n",
    "    ))\n",
    "\n",
    "# # The following code enables clicking the dot\n",
    "\n",
    "# url = \"@link.html\"\n",
    "# taptool = p.select(type=TapTool)\n",
    "# taptool.callback = OpenURL(url=url)\n",
    "\n",
    "# # The following code is for hover effect\n",
    "\n",
    "# hover = HoverTool()\n",
    "# hover.tooltips = \"\"\"\n",
    "#   <div>\n",
    "#     <h3>@link</h3>\n",
    "#     <h4>@detail</h3>\n",
    "#     <div><img src=\"@link.png\" alt=\"\" width=\"200\" /></div> \n",
    "# This image hover will work only if you save the plot as a png file in the same folder with the same name as the datafile\n",
    "#   </div>\n",
    "# \"\"\"\n",
    "# p.add_tools(hover)\n",
    "\n",
    "# The following code will plot the TTV and show it\n",
    "\n",
    "p.circle('x', 'y', size=20, source=source)\n",
    "show(p)"
   ]
  },
  {
   "cell_type": "code",
   "execution_count": null,
   "id": "03167fc6",
   "metadata": {},
   "outputs": [],
   "source": []
  }
 ],
 "metadata": {
  "kernelspec": {
   "display_name": "Python 3 (ipykernel)",
   "language": "python",
   "name": "python3"
  },
  "language_info": {
   "codemirror_mode": {
    "name": "ipython",
    "version": 3
   },
   "file_extension": ".py",
   "mimetype": "text/x-python",
   "name": "python",
   "nbconvert_exporter": "python",
   "pygments_lexer": "ipython3",
   "version": "3.9.12"
  }
 },
 "nbformat": 4,
 "nbformat_minor": 5
}
