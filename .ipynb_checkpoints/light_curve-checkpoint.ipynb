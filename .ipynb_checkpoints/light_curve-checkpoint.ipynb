{
 "cells": [
  {
   "cell_type": "code",
   "execution_count": 3,
   "id": "31cba716",
   "metadata": {},
   "outputs": [],
   "source": [
    "from bokeh.plotting import save, figure, output_file\n",
    "from bokeh.models import ColumnDataSource\n",
    "from bokeh.io import export_png\n",
    "from pandas import read_fwf\n",
    "from glob import glob\n",
    "\n",
    "file_list = glob('data/lc/*.txt')\n",
    "\n",
    "for data_file in file_list:        \n",
    "    \n",
    "    output = \"plots/lc/\" + data_file[8:-4] + \".html\" \n",
    "    output_file(output)\n",
    "\n",
    "    df = read_fwf(data_file, skiprows=15, header=None, sep=\"\\t+\")\n",
    "    df['error_low'] = df[1] - 1.96*df[2]\n",
    "    df['error_high'] = df[1] + 1.96*df[2]\n",
    "    \n",
    "    source = ColumnDataSource(data=dict(\n",
    "        x=df[0],\n",
    "        y=df[1],\n",
    "        err_l = df['error_low'],\n",
    "        err_h = df['error_high']\n",
    "        ))\n",
    "    \n",
    "    p = figure(sizing_mode=\"stretch_both\",\n",
    "               width=800, height = 600,\n",
    "               tools=\"pan, save, reset, wheel_zoom, help\",\n",
    "               title=\"Light Curve data for \" + data_file[3:-4],\n",
    "               x_axis_label = \"Barycentric Dynamical Time (JD)\", \n",
    "               y_axis_label = \"Normalized Flux\")\n",
    "        \n",
    "    p.segment(\n",
    "        x0='x',\n",
    "        y0='err_l',\n",
    "        x1='x',\n",
    "        y1='err_h',\n",
    "        source=source\n",
    "    )\n",
    "    \n",
    "    p.circle('x', 'y', size=10, source=source)\n",
    "    \n",
    "    export_png(p, filename=\"images/\" + data_file[3:-4] + \".png\")\n",
    "    \n",
    "    save(p)"
   ]
  },
  {
   "cell_type": "code",
   "execution_count": null,
   "id": "ca07c540",
   "metadata": {},
   "outputs": [],
   "source": []
  }
 ],
 "metadata": {
  "kernelspec": {
   "display_name": "Python 3 (ipykernel)",
   "language": "python",
   "name": "python3"
  },
  "language_info": {
   "codemirror_mode": {
    "name": "ipython",
    "version": 3
   },
   "file_extension": ".py",
   "mimetype": "text/x-python",
   "name": "python",
   "nbconvert_exporter": "python",
   "pygments_lexer": "ipython3",
   "version": "3.9.12"
  }
 },
 "nbformat": 4,
 "nbformat_minor": 5
}
