{
 "cells": [
  {
   "cell_type": "markdown",
   "id": "fa4218cc",
   "metadata": {},
   "source": [
    "# Code to plot Light Curve (Normalized flux vs Barycentric Dynamical Time)"
   ]
  },
  {
   "cell_type": "markdown",
   "id": "74c07a98",
   "metadata": {},
   "source": [
    "Importing all the necessary packages. In this project, we basically used glob, pandas and bokeh. However, we didn't import the whole package. Instead we imported only the function that we need."
   ]
  },
  {
   "cell_type": "code",
   "execution_count": 1,
   "id": "e17b1653",
   "metadata": {},
   "outputs": [],
   "source": [
    "from bokeh.plotting import save, figure, output_file\n",
    "from bokeh.models import ColumnDataSource, BasicTickFormatter\n",
    "from bokeh.io import export_png\n",
    "from pandas import read_fwf\n",
    "from glob import glob"
   ]
  },
  {
   "cell_type": "markdown",
   "id": "a1581f24",
   "metadata": {},
   "source": [
    "First, we fetch all the data files that is in \"data/lc\" folder. In this folder, we have the light curves data. The file_list list contains the name of all the light curves data file. "
   ]
  },
  {
   "cell_type": "code",
   "execution_count": 2,
   "id": "6c6a5836",
   "metadata": {},
   "outputs": [],
   "source": [
    "file_list = glob('data/lc/*.txt')"
   ]
  },
  {
   "cell_type": "markdown",
   "id": "5fc18d20",
   "metadata": {},
   "source": [
    "Then for each LC data file, we plotted the normalized flux vs JD. The first 15 lines of the light curve data file contains header info, so we will skip those lines."
   ]
  },
  {
   "cell_type": "code",
   "execution_count": 3,
   "id": "31cba716",
   "metadata": {},
   "outputs": [],
   "source": [
    "for data_file in file_list:        \n",
    "    \n",
    "    output = \"plots/lc/\" + data_file[8:-4] + \".html\"                # creating an output html file\n",
    "    output_file(output)\n",
    "\n",
    "    df = read_fwf(data_file, skiprows=15, header=None, sep=\"\\t+\")  # importing the data file as a dataframe\n",
    "    df['error_low'] = df[1] - df[2]               # defining new variable (measured value ± error)\n",
    "    df['error_high'] = df[1] + df[2]              # that would help us later plotting error bar       \n",
    "    \n",
    "    source = ColumnDataSource(data=dict(       # singling out the necessary data for our purpose\n",
    "        x=df[0],\n",
    "        y=df[1],\n",
    "        err_l = df['error_low'],\n",
    "        err_h = df['error_high']\n",
    "        ))\n",
    "    \n",
    "    p = figure(sizing_mode=\"stretch_both\",    # initiating a figure\n",
    "               width=800, height = 600,\n",
    "               tools=\"pan, save, reset, wheel_zoom, help\",\n",
    "               title=\"Light Curve data for \" + data_file[8:-4],\n",
    "               x_axis_label = \"Barycentric Dynamical Time (JD)\", \n",
    "               y_axis_label = \"Normalized Flux\")    \n",
    "    \n",
    "    p.segment(                        # plotting the error bar segment\n",
    "        x0='x',\n",
    "        y0='err_l',\n",
    "        x1='x',\n",
    "        y1='err_h',\n",
    "        source=source\n",
    "    )\n",
    "    \n",
    "    p.circle('x', 'y', size=10, source=source) # plotting the light curve data points\n",
    "    \n",
    "    p.xaxis.axis_label_text_font_size = \"15pt\" # setting up the font sizes for various parameter\n",
    "    p.yaxis.axis_label_text_font_size = \"15pt\"\n",
    "    p.xaxis.major_label_text_font_size = \"15pt\"\n",
    "    p.yaxis.major_label_text_font_size = \"15pt\"\n",
    "    p.xaxis.formatter = BasicTickFormatter(use_scientific=False)\n",
    "    p.yaxis.formatter = BasicTickFormatter(use_scientific=False)\n",
    "    p.title.text_font_size = '20pt'\n",
    "\n",
    "    export_png(p, filename=\"plots/images/\" + data_file[8:-4] + \".png\") # exporting as png image to use in the ttv diagram later\n",
    "    \n",
    "    save(p)"
   ]
  },
  {
   "cell_type": "code",
   "execution_count": null,
   "id": "84028e2a",
   "metadata": {},
   "outputs": [],
   "source": []
  },
  {
   "cell_type": "code",
   "execution_count": null,
   "id": "e0fa984a",
   "metadata": {},
   "outputs": [],
   "source": []
  }
 ],
 "metadata": {
  "kernelspec": {
   "display_name": "Python 3",
   "language": "python",
   "name": "python3"
  },
  "language_info": {
   "codemirror_mode": {
    "name": "ipython",
    "version": 3
   },
   "file_extension": ".py",
   "mimetype": "text/x-python",
   "name": "python",
   "nbconvert_exporter": "python",
   "pygments_lexer": "ipython3",
   "version": "3.8.10"
  }
 },
 "nbformat": 4,
 "nbformat_minor": 5
}
