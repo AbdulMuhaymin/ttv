{
 "cells": [
  {
   "cell_type": "code",
   "execution_count": 14,
   "id": "7397f4df",
   "metadata": {},
   "outputs": [],
   "source": [
    "from bokeh.plotting import save, figure, output_file, show\n",
    "from bokeh.models import ColumnDataSource, OpenURL, TapTool\n",
    "from bokeh.models.tools import HoverTool\n",
    "from bokeh.transform import factor_cmap\n",
    "from pandas import read_fwf\n",
    "from glob import glob\n",
    "\n",
    "file_list = glob('modified_data/*.txt')\n",
    "\n",
    "for data_file in file_list:        \n",
    "    \n",
    "    output = \"plots/ttv/\" + data_file[4:-4] + \".html\" \n",
    "    output_file(output)\n",
    "\n",
    "    df = read_fwf(data_file, skiprows=34, header=None, sep=\"\\t+\")\n",
    "    source = ColumnDataSource(data=dict(\n",
    "            epoch=df[4],\n",
    "            O_C=df[5],\n",
    "            LCType=df[8],\n",
    "            discarded=df[21],\n",
    "            LCFileName=df[22]\n",
    "            ))\n",
    "    \n",
    "    refined = df.drop(df[df[21] == 1].index)\n",
    "    df = refined.drop(refined[refined[8] == 'ThisStudy'].index)\n",
    "    This = refined.drop(refined[refined[8] != 'ThisStudy'].index)\n",
    "    \n",
    "    sourceThis = ColumnDataSource(data=dict(\n",
    "        epoch=This[4],\n",
    "        O_C=This[5],\n",
    "        discarded=This[21],\n",
    "        LCFileName=This[22],\n",
    "        img_link='../../images/' + This[22] + '.png',\n",
    "        link = '../lc/' + This[22] + '.html'\n",
    "        ))\n",
    "    \n",
    "    p = figure(sizing_mode=\"stretch_both\",\n",
    "                   tools=\"pan, save, reset, wheel_zoom, help\",\n",
    "                   title=\"TTV Diagram for \" + data_file[4:-4],\n",
    "                   x_axis_label = \"Epoch\", \n",
    "                   y_axis_label = \"O-C\")\n",
    "\n",
    "    p.circle('epoch', 'O_C',\n",
    "                 size=10,\n",
    "                 source=source,\n",
    "                 color=factor_cmap('LCType',\n",
    "                                   ['gray', 'turquoise', 'red', 'darkblue'],\n",
    "                                   ['Database', 'Literature', 'ThisStudy', 'TESS']),\n",
    "                 legend_group='LCType'\n",
    "                )\n",
    "\n",
    "    p.circle('epoch', 'O_C',\n",
    "                 size=12,\n",
    "                 source=sourceThis,\n",
    "                 color='red',\n",
    "                 name='needsHover'\n",
    "                )\n",
    "    \n",
    "    p.legend.title = \"Light Curve Type\"\n",
    "    p.legend.location = \"top_left\"\n",
    "    \n",
    "    hover = HoverTool(names=['needsHover'])\n",
    "\n",
    "    hover.tooltips = \"\"\"\n",
    "      <div>\n",
    "        <h3>@LCFileName</h3>\n",
    "        <div><strong>Click to view this light curve</strong></div>\n",
    "        <div><img src=\"@img_link\" alt=\"Sorry, the image didn't load properly.\" width=\"200\" /></div>\n",
    "      </div>\n",
    "    \"\"\"\n",
    "    p.add_tools(hover)\n",
    "    \n",
    "    url = \"@link\"\n",
    "    tap = TapTool(names=['needsHover'])\n",
    "    tap.callback = OpenURL(url=url)\n",
    "    p.add_tools(tap)\n",
    "    \n",
    "    save(p)"
   ]
  },
  {
   "cell_type": "code",
   "execution_count": 1,
   "id": "31d51ab7",
   "metadata": {},
   "outputs": [],
   "source": [
    "from bokeh.plotting import save, figure, output_file, show\n",
    "from bokeh.models import ColumnDataSource, OpenURL, TapTool\n",
    "from bokeh.models.tools import HoverTool\n",
    "from bokeh.transform import factor_cmap, factor_mark\n",
    "from pandas import read_fwf\n",
    "from glob import glob\n",
    "from bokeh.layouts import column, row\n",
    "from bokeh.models import Button, CustomJS, Div"
   ]
  },
  {
   "cell_type": "code",
   "execution_count": 2,
   "id": "2f972486",
   "metadata": {},
   "outputs": [],
   "source": [
    "data_file = \"ttv/hatp32_oc_modelstats.txt\""
   ]
  },
  {
   "cell_type": "code",
   "execution_count": 3,
   "id": "a4584e9f",
   "metadata": {},
   "outputs": [],
   "source": [
    "output = \"plots/ttv/\" + data_file[4:-4] + \".html\" \n",
    "output_file(output)\n",
    "\n",
    "df = read_fwf(data_file, skiprows=34, header=None, sep=\"\\t+\")\n",
    "source = ColumnDataSource(data=dict(\n",
    "        epoch=df[4],\n",
    "        O_C=df[5],\n",
    "        LCType=df[8],\n",
    "        discarded=df[21],\n",
    "        LCFileName=df[22]\n",
    "        ))"
   ]
  },
  {
   "cell_type": "code",
   "execution_count": 4,
   "id": "66178272",
   "metadata": {},
   "outputs": [],
   "source": [
    "refined = df.drop(df[df[21] == 1].index)\n",
    "df = refined.drop(refined[refined[8] == 'ThisStudy'].index)\n",
    "This = refined.drop(refined[refined[8] != 'ThisStudy'].index)"
   ]
  },
  {
   "cell_type": "code",
   "execution_count": 5,
   "id": "fd2d78a1",
   "metadata": {},
   "outputs": [],
   "source": [
    "sourceThis = ColumnDataSource(data=dict(\n",
    "        epoch=This[4],\n",
    "        O_C=This[5],\n",
    "        discarded=This[21],\n",
    "        LCFileName=This[22],\n",
    "        img_link='../../images/' + This[22] + '.png',\n",
    "        link = '../lc/' + This[22] + '.html'\n",
    "        ))"
   ]
  },
  {
   "cell_type": "code",
   "execution_count": 6,
   "id": "8259d29d",
   "metadata": {},
   "outputs": [
    {
     "data": {
      "text/html": [
       "<div style=\"display: table;\"><div style=\"display: table-row;\"><div style=\"display: table-cell;\"><b title=\"bokeh.models.renderers.GlyphRenderer\">GlyphRenderer</b>(</div><div style=\"display: table-cell;\">id&nbsp;=&nbsp;'1058', <span id=\"1061\" style=\"cursor: pointer;\">&hellip;)</span></div></div><div class=\"1060\" style=\"display: none;\"><div style=\"display: table-cell;\"></div><div style=\"display: table-cell;\">coordinates&nbsp;=&nbsp;None,</div></div><div class=\"1060\" style=\"display: none;\"><div style=\"display: table-cell;\"></div><div style=\"display: table-cell;\">data_source&nbsp;=&nbsp;ColumnDataSource(id='1003', ...),</div></div><div class=\"1060\" style=\"display: none;\"><div style=\"display: table-cell;\"></div><div style=\"display: table-cell;\">glyph&nbsp;=&nbsp;Circle(id='1055', ...),</div></div><div class=\"1060\" style=\"display: none;\"><div style=\"display: table-cell;\"></div><div style=\"display: table-cell;\">group&nbsp;=&nbsp;None,</div></div><div class=\"1060\" style=\"display: none;\"><div style=\"display: table-cell;\"></div><div style=\"display: table-cell;\">hover_glyph&nbsp;=&nbsp;None,</div></div><div class=\"1060\" style=\"display: none;\"><div style=\"display: table-cell;\"></div><div style=\"display: table-cell;\">js_event_callbacks&nbsp;=&nbsp;{},</div></div><div class=\"1060\" style=\"display: none;\"><div style=\"display: table-cell;\"></div><div style=\"display: table-cell;\">js_property_callbacks&nbsp;=&nbsp;{},</div></div><div class=\"1060\" style=\"display: none;\"><div style=\"display: table-cell;\"></div><div style=\"display: table-cell;\">level&nbsp;=&nbsp;'glyph',</div></div><div class=\"1060\" style=\"display: none;\"><div style=\"display: table-cell;\"></div><div style=\"display: table-cell;\">muted&nbsp;=&nbsp;False,</div></div><div class=\"1060\" style=\"display: none;\"><div style=\"display: table-cell;\"></div><div style=\"display: table-cell;\">muted_glyph&nbsp;=&nbsp;Circle(id='1057', ...),</div></div><div class=\"1060\" style=\"display: none;\"><div style=\"display: table-cell;\"></div><div style=\"display: table-cell;\">name&nbsp;=&nbsp;'needsHover',</div></div><div class=\"1060\" style=\"display: none;\"><div style=\"display: table-cell;\"></div><div style=\"display: table-cell;\">nonselection_glyph&nbsp;=&nbsp;Circle(id='1056', ...),</div></div><div class=\"1060\" style=\"display: none;\"><div style=\"display: table-cell;\"></div><div style=\"display: table-cell;\">selection_glyph&nbsp;=&nbsp;'auto',</div></div><div class=\"1060\" style=\"display: none;\"><div style=\"display: table-cell;\"></div><div style=\"display: table-cell;\">subscribed_events&nbsp;=&nbsp;[],</div></div><div class=\"1060\" style=\"display: none;\"><div style=\"display: table-cell;\"></div><div style=\"display: table-cell;\">syncable&nbsp;=&nbsp;True,</div></div><div class=\"1060\" style=\"display: none;\"><div style=\"display: table-cell;\"></div><div style=\"display: table-cell;\">tags&nbsp;=&nbsp;[],</div></div><div class=\"1060\" style=\"display: none;\"><div style=\"display: table-cell;\"></div><div style=\"display: table-cell;\">view&nbsp;=&nbsp;CDSView(id='1059', ...),</div></div><div class=\"1060\" style=\"display: none;\"><div style=\"display: table-cell;\"></div><div style=\"display: table-cell;\">visible&nbsp;=&nbsp;True,</div></div><div class=\"1060\" style=\"display: none;\"><div style=\"display: table-cell;\"></div><div style=\"display: table-cell;\">x_range_name&nbsp;=&nbsp;'default',</div></div><div class=\"1060\" style=\"display: none;\"><div style=\"display: table-cell;\"></div><div style=\"display: table-cell;\">y_range_name&nbsp;=&nbsp;'default')</div></div></div>\n",
       "<script>\n",
       "(function() {\n",
       "  let expanded = false;\n",
       "  const ellipsis = document.getElementById(\"1061\");\n",
       "  ellipsis.addEventListener(\"click\", function() {\n",
       "    const rows = document.getElementsByClassName(\"1060\");\n",
       "    for (let i = 0; i < rows.length; i++) {\n",
       "      const el = rows[i];\n",
       "      el.style.display = expanded ? \"none\" : \"table-row\";\n",
       "    }\n",
       "    ellipsis.innerHTML = expanded ? \"&hellip;)\" : \"&lsaquo;&lsaquo;&lsaquo;\";\n",
       "    expanded = !expanded;\n",
       "  });\n",
       "})();\n",
       "</script>\n"
      ],
      "text/plain": [
       "GlyphRenderer(id='1058', ...)"
      ]
     },
     "execution_count": 6,
     "metadata": {},
     "output_type": "execute_result"
    }
   ],
   "source": [
    "p = figure(sizing_mode=\"stretch_both\",\n",
    "               tools=\"pan, save, reset, wheel_zoom, help\",\n",
    "               title=\"TTV Diagram for \" + data_file[4:-4],\n",
    "               x_axis_label = \"Epoch\", \n",
    "               y_axis_label = \"O-C\")\n",
    "    \n",
    "p.circle('epoch', 'O_C',\n",
    "             size=10,\n",
    "             source=source,\n",
    "             color=factor_cmap('LCType',\n",
    "                               ['gray', 'turquoise', 'red', 'darkblue'],\n",
    "                               ['Database', 'Literature', 'ThisStudy', 'TESS']),\n",
    "             legend_group='LCType'\n",
    "            )\n",
    "\n",
    "p.circle('epoch', 'O_C',\n",
    "             size=12,\n",
    "             source=sourceThis,\n",
    "             color='red',\n",
    "             name='needsHover'\n",
    "            )"
   ]
  },
  {
   "cell_type": "code",
   "execution_count": 7,
   "id": "b8a8934a",
   "metadata": {},
   "outputs": [],
   "source": [
    "p.legend.title = \"Light Curve Type\"\n",
    "p.legend.location = \"top_left\""
   ]
  },
  {
   "cell_type": "code",
   "execution_count": 8,
   "id": "58f18fca",
   "metadata": {},
   "outputs": [],
   "source": [
    "hover = HoverTool(names=['needsHover'])\n",
    "\n",
    "hover.tooltips = \"\"\"\n",
    "      <div>\n",
    "        <h3>@LCFileName</h3>\n",
    "        <div><strong>Click to view this light curve</strong></div>\n",
    "        <div><img src=\"@img_link\" alt=\"Sorry, the image didn't load properly.\" width=\"200\" /></div>\n",
    "      </div>\n",
    "    \"\"\"\n",
    "p.add_tools(hover)"
   ]
  },
  {
   "cell_type": "code",
   "execution_count": 9,
   "id": "a0afc068",
   "metadata": {},
   "outputs": [],
   "source": [
    "url = \"@link\"\n",
    "tap = TapTool(names=['needsHover'])\n",
    "tap.callback = OpenURL(url=url)\n",
    "p.add_tools(tap)"
   ]
  },
  {
   "cell_type": "code",
   "execution_count": 11,
   "id": "ec10b715",
   "metadata": {},
   "outputs": [],
   "source": [
    "show(p)"
   ]
  },
  {
   "cell_type": "code",
   "execution_count": null,
   "id": "d1e24f90",
   "metadata": {},
   "outputs": [],
   "source": []
  }
 ],
 "metadata": {
  "kernelspec": {
   "display_name": "Python 3 (ipykernel)",
   "language": "python",
   "name": "python3"
  },
  "language_info": {
   "codemirror_mode": {
    "name": "ipython",
    "version": 3
   },
   "file_extension": ".py",
   "mimetype": "text/x-python",
   "name": "python",
   "nbconvert_exporter": "python",
   "pygments_lexer": "ipython3",
   "version": "3.9.12"
  }
 },
 "nbformat": 4,
 "nbformat_minor": 5
}
