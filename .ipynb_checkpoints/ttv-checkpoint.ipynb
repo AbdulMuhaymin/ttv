{
 "cells": [
  {
   "cell_type": "markdown",
   "id": "81985ab6",
   "metadata": {},
   "source": [
    "# Code to plot the TTV diagram (Residual from the linear fit vs epoch)"
   ]
  },
  {
   "cell_type": "markdown",
   "id": "941486d7",
   "metadata": {},
   "source": [
    "Importing all the necessary packages. In this project, we basically used glob, pandas and bokeh. However, we didn't import the whole package. Instead we imported only the function that we need."
   ]
  },
  {
   "cell_type": "code",
   "execution_count": 1,
   "id": "72c69986",
   "metadata": {},
   "outputs": [],
   "source": [
    "from glob import glob\n",
    "from pandas import read_fwf\n",
    "from bokeh.plotting import save, figure, output_file\n",
    "from bokeh.models import ColumnDataSource, OpenURL, TapTool, BasicTickFormatter\n",
    "from bokeh.models.tools import HoverTool\n",
    "from bokeh.transform import factor_cmap\n",
    "from bokeh.io import export_png"
   ]
  },
  {
   "cell_type": "markdown",
   "id": "bdfd4f9a",
   "metadata": {},
   "source": [
    "First, we fetch all the data files that is in \"modified_data\" folder. In the modified data folder, we added one more column to the original data file. This column indictes a light curve name for each 'ThisStudy' and just a random garbage value for others."
   ]
  },
  {
   "cell_type": "code",
   "execution_count": 2,
   "id": "c7c67979",
   "metadata": {},
   "outputs": [],
   "source": [
    "file_list = glob('modified_data/*.txt')"
   ]
  },
  {
   "cell_type": "markdown",
   "id": "1acd36e7",
   "metadata": {},
   "source": [
    "Then for each TTV data file, we plotted the linear residual (min) vs epoch (cycle). Here, we also added a hover effect and link to the light curve for 'ThisStudy' LCType. Follow the code comment for details."
   ]
  },
  {
   "cell_type": "code",
   "execution_count": 3,
   "id": "0197ea6b",
   "metadata": {},
   "outputs": [],
   "source": [
    "for data_file in file_list:        \n",
    "    \n",
    "    output = \"plots/ttv/\" + data_file[14:-4] + \".html\"                # creating an output html file\n",
    "    output_file(output)\n",
    "\n",
    "    df = read_fwf(data_file, skiprows=1, header=None, sep=\"\\t+\")      # importing the data file as a dataframe\n",
    "    df = df.drop(df[df[21] == 1].index)                              # discarding all the rows with Discarded == 1\n",
    "    \n",
    "    #df = ref.drop(ref[ref[8] == 'ThisStudy'].index)         # Creating a dataframe for Database and Literature light curves\n",
    "    This = df.drop(df[df[8] != 'ThisStudy'].index)           # Creating a dataframe for ThisStudy light curves\n",
    "\n",
    "    source = ColumnDataSource(data=dict(                  # The residual is multiplied by 1440 to convert it from days to\n",
    "                epoch = df[4],                            # minutes. err_l and err_h is also calculated to use later to plot \n",
    "                res = df[6]*1440,                         # the lower and higher value of the error bar segment. \n",
    "                LCType = df[8], \n",
    "                err_l = (df[6] - df[1])*1440,\n",
    "                err_h = (df[6] + df[1])*1440\n",
    "            ))\n",
    "\n",
    "    sourceThis = ColumnDataSource(data=dict(           # This is same as above but for the ThisStudy LCType. We do it\n",
    "                epoch=This[4],                         # seperately because ThisStudy data points have link, img_link and \n",
    "                res=This[6]*1440,                      # other properties that we need to show hover effect\n",
    "                LCType=This[8],\n",
    "        \n",
    "                LCFileName=This[22], \n",
    "                img_link='../images/' + This[22] + '.png',\n",
    "                link = '../lc/' + This[22] + '.html'\n",
    "            ))\n",
    "\n",
    "    p = figure(sizing_mode=\"stretch_both\",                              # initiating a figure with titles, labels and tools\n",
    "                tools=\"pan, box_zoom, save, reset, wheel_zoom, help\",   # add/remove tools to show/hide in the bokeh plot\n",
    "                title=\"TTV Diagram for \" + data_file[14:-4],\n",
    "                x_axis_label = \"Epoch (cycle)\", \n",
    "                y_axis_label = \"O-C (min)\")\n",
    "\n",
    "    p.segment(                                  # Error bar plotting.\n",
    "            x0='epoch',\n",
    "            y0='err_l',\n",
    "            x1='epoch',\n",
    "            y1='err_h',\n",
    "            color = 'black',\n",
    "            source=source\n",
    "        )\n",
    "    \n",
    "    p.circle('epoch', 'res',                                          # plotting Database and Literature data\n",
    "                size=10,                                              # For new data such as TESS, Kepler etc, just add \n",
    "                source=source,                                        # more entry in the factor_cmap as \n",
    "                color=factor_cmap('LCType',\n",
    "                                ['red', 'gray', 'turquoise', 'darkblue'],\n",
    "                                ['ThisStudy', 'Database', 'Literature', 'TESS']),\n",
    "                legend_group='LCType'\n",
    "            )\n",
    "\n",
    "    p.circle('epoch', 'res',                       # This is for ThisStudy light curves. The size is a little larger\n",
    "                size=12,                           # and  red in color. Also, hover effect is enabled here.\n",
    "                source=sourceThis,\n",
    "                color=factor_cmap('LCType',\n",
    "                                ['red'],\n",
    "                                ['ThisStudy']),\n",
    "                name='needsHover'\n",
    "            )\n",
    "\n",
    "    p.legend.title = \"Light Curve Type\"\n",
    "    p.legend.location = \"top_left\"               # Choose the most suitable position for legend location\n",
    "\n",
    "    hover = HoverTool(names=['needsHover'])      # This is the html code that will make the hover effect window\n",
    "    hover.tooltips = \"\"\"\n",
    "          <div>\n",
    "            <h3>@LCFileName</h3>\n",
    "            <div><strong>Click to view this light curve</strong></div>\n",
    "            <div><img src=\"@img_link\" alt=\"Sorry, the image didn't load properly.\" width=\"200\" /></div>\n",
    "          </div>\n",
    "        \"\"\"\n",
    "    p.add_tools(hover)\n",
    "    \n",
    "    url = \"@link\"                               # Here we add clicking effect so clicking each data point will open\n",
    "    tap = TapTool(names=['needsHover'])         # a new tab with corresponding light curve\n",
    "    tap.callback = OpenURL(url=url)\n",
    "    p.add_tools(tap)\n",
    "    \n",
    "    p.xaxis.axis_label_text_font_size = \"15pt\"   # Setting up the font sizes\n",
    "    p.yaxis.axis_label_text_font_size = \"15pt\"\n",
    "    p.xaxis.major_label_text_font_size = \"15pt\"\n",
    "    p.yaxis.major_label_text_font_size = \"15pt\"\n",
    "    p.xaxis.formatter = BasicTickFormatter(use_scientific=False)\n",
    "    p.yaxis.formatter = BasicTickFormatter(use_scientific=False)\n",
    "    p.title.text_font_size = '20pt'\n",
    "    p.legend.label_text_font_size = '13pt'\n",
    "    p.legend.title_text_font_size = '14pt'\n",
    "    \n",
    "    export_png(p, filename=\"plots/ttv_images/\" + data_file[14:-4] + \".png\") # exporting as png image to use in the homepage\n",
    "    save(p)"
   ]
  },
  {
   "cell_type": "code",
   "execution_count": null,
   "id": "f628cce7",
   "metadata": {},
   "outputs": [],
   "source": []
  }
 ],
 "metadata": {
  "kernelspec": {
   "display_name": "Python 3",
   "language": "python",
   "name": "python3"
  },
  "language_info": {
   "codemirror_mode": {
    "name": "ipython",
    "version": 3
   },
   "file_extension": ".py",
   "mimetype": "text/x-python",
   "name": "python",
   "nbconvert_exporter": "python",
   "pygments_lexer": "ipython3",
   "version": "3.8.10"
  }
 },
 "nbformat": 4,
 "nbformat_minor": 5
}
