{
 "cells": [
  {
   "cell_type": "markdown",
   "id": "81fca778",
   "metadata": {},
   "source": [
    "# Code to convert the EXOFAST ps files to png files"
   ]
  },
  {
   "cell_type": "markdown",
   "id": "20d6f9b3",
   "metadata": {},
   "source": [
    "In the following code blocks, we will track every exofast postscript files available and then convert them to png file. We will rename the files according to their TC (Time of Transit) so that we can track the file from the TTV diagram. Let's import the necessary modules."
   ]
  },
  {
   "cell_type": "code",
   "execution_count": 1,
   "id": "e185758c",
   "metadata": {},
   "outputs": [],
   "source": [
    "\n",
    "from glob import glob\n",
    "from pandas import read_fwf"
   ]
  },
  {
   "cell_type": "markdown",
   "id": "74ed764f",
   "metadata": {},
   "source": [
    "This is for windows user only. We need ghostscript installation and we also need to point out the file location manually. In linux-based OS, the following line should be commented out. If you don't have ghostscript, you should install it first."
   ]
  },
  {
   "cell_type": "code",
   "execution_count": 2,
   "id": "81bfca90",
   "metadata": {},
   "outputs": [],
   "source": []
  },
  {
   "cell_type": "markdown",
   "id": "e165da70",
   "metadata": {},
   "source": [
    "Now, we define a function that will take two string inputs. Both of them are directory path. The first path should be where the PS file is located and the second path should be where we want the PNG file to be saved."
   ]
  },
  {
   "cell_type": "code",
   "execution_count": 3,
   "id": "48853ab1",
   "metadata": {},
   "outputs": [],
   "source": [
    "def png(path, savedir):\n",
    "    img = Image.open(path)\n",
    "    img.load(scale=3)\n",
    "    img.save(savedir)"
   ]
  },
  {
   "cell_type": "markdown",
   "id": "bb4ec51d",
   "metadata": {},
   "source": [
    "Now, let's grab all the PS files available in the \"basturk_etal_2022_ttv_exofast_models\" folder. It doesn't matter whether this is from database or literature or our study. It simply returns a list of all the PS files."
   ]
  },
  {
   "cell_type": "code",
   "execution_count": 4,
   "id": "ab1ce47a",
   "metadata": {},
   "outputs": [],
   "source": [
    "ps_files = glob(\"data/exofast/**/**/**/**/*.ps\")"
   ]
  },
  {
   "cell_type": "markdown",
   "id": "047bc5fb",
   "metadata": {},
   "source": [
    "Now, we also read the param.txt file in order to give the png file an appropriate name. This code will generate a png image for our study data files too, even though we will not use these images later. We are going to use only the Database and Literature exofast images. In case of ThisStudy, we plotted our own light curve. "
   ]
  },
  {
   "cell_type": "code",
   "execution_count": 5,
   "id": "971534f2",
   "metadata": {},
   "outputs": [],
   "source": [
    "for ps_file in ps_files:\n",
    "    savedir = ps_file[:-28] + \"exofast\" + \".png\"\n",
    "    png(ps_file, savedir)"
   ]
  },
  {
   "cell_type": "code",
   "execution_count": null,
   "id": "792a8fd2",
   "metadata": {},
   "outputs": [],
   "source": []
  }
 ],
 "metadata": {
  "kernelspec": {
   "display_name": "Python 3 (ipykernel)",
   "language": "python",
   "name": "python3"
  },
  "language_info": {
   "codemirror_mode": {
    "name": "ipython",
    "version": 3
   },
   "file_extension": ".py",
   "mimetype": "text/x-python",
   "name": "python",
   "nbconvert_exporter": "python",
   "pygments_lexer": "ipython3",
   "version": "3.9.12"
  }
 },
 "nbformat": 4,
 "nbformat_minor": 5
}
