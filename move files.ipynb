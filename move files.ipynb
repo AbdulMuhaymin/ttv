{
 "cells": [
  {
   "cell_type": "code",
   "execution_count": 2,
   "id": "8a6f3f1a",
   "metadata": {},
   "outputs": [],
   "source": [
    "from glob import glob\n",
    "import os, shutil, pathlib, fnmatch"
   ]
  },
  {
   "cell_type": "markdown",
   "id": "0dee9d6b",
   "metadata": {},
   "source": [
    "### Renaming some files (one time code, should be deleted later)"
   ]
  },
  {
   "cell_type": "code",
   "execution_count": 13,
   "id": "978ab1f3",
   "metadata": {},
   "outputs": [],
   "source": [
    "a = glob(\"data/exo/**/Our/**/*.html\")"
   ]
  },
  {
   "cell_type": "code",
   "execution_count": 16,
   "id": "5676823c",
   "metadata": {},
   "outputs": [
    {
     "data": {
      "text/plain": [
       "['data/exo\\\\HAT-P-23\\\\Our\\\\2014-09-25_T100\\\\hatp23_20140925_T100.html',\n",
       " 'data/exo\\\\HAT-P-23\\\\Our\\\\2015-08-28_CAHA\\\\hatp23_20150828_CAHA.html',\n",
       " 'data/exo\\\\HAT-P-23\\\\Our\\\\2019-08-08_T35\\\\hatp23_20190808_T35.html',\n",
       " 'data/exo\\\\HAT-P-23\\\\Our\\\\2019-09-28_T35\\\\hatp23_20190928_T35.html',\n",
       " 'data/exo\\\\HAT-P-23\\\\Our\\\\20210720_UT50\\\\hatp23_20210720_UT50.html',\n",
       " 'data/exo\\\\HAT-P-32\\\\Our\\\\2019-11-03_T35\\\\hatp32_20191103_T35.html',\n",
       " 'data/exo\\\\HAT-P-37\\\\Our\\\\20150804_T100\\\\hatp37_20150804_T100.html',\n",
       " 'data/exo\\\\HAT-P-37\\\\Our\\\\20190517_T100\\\\hatp37_20190517_T100.html',\n",
       " 'data/exo\\\\HAT-P-56\\\\Our\\\\AUKR_T35_20190217\\\\hatp56_20190217_T35.html',\n",
       " 'data/exo\\\\HAT-P-56\\\\Our\\\\TUG_T100_20191109\\\\hatp56_20191109_T100.html',\n",
       " 'data/exo\\\\WASP-103\\\\Our\\\\20140530_T100\\\\wasp103_20140530_T100.html',\n",
       " 'data/exo\\\\WASP-103\\\\Our\\\\20150430_CA123\\\\wasp103_20150430_CAHA.html',\n",
       " 'data/exo\\\\WASP-103\\\\Our\\\\20150607_CA123\\\\wasp103_20150607_CAHA.html',\n",
       " 'data/exo\\\\WASP-103\\\\Our\\\\20170611_T100\\\\wasp103_20170611_T100.html',\n",
       " 'data/exo\\\\WASP-103\\\\Our\\\\20180701_T35\\\\wasp103_20180701_T35.html',\n",
       " 'data/exo\\\\WASP-103\\\\Our\\\\20200729_t100\\\\wasp103_20200729_T100.html',\n",
       " 'data/exo\\\\WASP-14\\\\Our\\\\ATA50\\\\wasp14_20200514_ATA50.html',\n",
       " 'data/exo\\\\WASP-14\\\\Our\\\\AUKR T35_20190703_EXOFAST\\\\wasp14_20190703_T35.html',\n",
       " 'data/exo\\\\WASP-2\\\\Our\\\\2019-07-20_T35\\\\wasp2_20190720_T35.html',\n",
       " 'data/exo\\\\WASP-2\\\\Our\\\\20201012_ATA50\\\\wasp2_20201012_ATA50.html',\n",
       " 'data/exo\\\\WASP-2\\\\Our\\\\20201025_T100\\\\wasp2_20201025_T100.html',\n",
       " 'data/exo\\\\WASP-37\\\\Our\\\\20170427_T100\\\\wasp37_20170427_T100.html',\n",
       " 'data/exo\\\\WASP-37\\\\Our\\\\20200528_UT50\\\\wasp37_20200528_UT50.html',\n",
       " 'data/exo\\\\WASP-69\\\\Our\\\\2015-08-22_CAHA\\\\wasp69_20150822_CAHA.html',\n",
       " 'data/exo\\\\WASP-69\\\\Our\\\\2015-09-18_CAHA\\\\wasp69_20150918_CAHA.html',\n",
       " 'data/exo\\\\WASP-69\\\\Our\\\\2016-09-08_CAHA\\\\wasp69_20160908_CAHA.html',\n",
       " 'data/exo\\\\WASP-69\\\\Our\\\\2016-10-09_T100\\\\wasp69_20161009_T100.html',\n",
       " 'data/exo\\\\WASP-69\\\\Our\\\\2017-08-26_T100\\\\wasp69_20170826_T100.html',\n",
       " 'data/exo\\\\WASP-69\\\\Our\\\\2019-07-27_T35\\\\wasp69_20190727_T35.html',\n",
       " 'data/exo\\\\WASP-69\\\\Our\\\\2019-08-27_T35\\\\wasp69_20190827_T35.html',\n",
       " 'data/exo\\\\WASP-74\\\\Our\\\\20200812-T100\\\\wasp74_20200812_T100.html',\n",
       " 'data/exo\\\\WASP-74\\\\Our\\\\20200814_WASP74-IST60\\\\wasp74_20200814_IST60.html',\n",
       " 'data/exo\\\\WASP-74\\\\Our\\\\20200827-T100\\\\wasp74_20200827_T100.html']"
      ]
     },
     "execution_count": 16,
     "metadata": {},
     "output_type": "execute_result"
    }
   ],
   "source": [
    "list1"
   ]
  },
  {
   "cell_type": "code",
   "execution_count": 15,
   "id": "0918d6db",
   "metadata": {},
   "outputs": [
    {
     "data": {
      "text/plain": [
       "33"
      ]
     },
     "execution_count": 15,
     "metadata": {},
     "output_type": "execute_result"
    }
   ],
   "source": [
    "len(list1)"
   ]
  },
  {
   "cell_type": "code",
   "execution_count": 14,
   "id": "16b102b5",
   "metadata": {},
   "outputs": [],
   "source": [
    "list1 = []\n",
    "for i in a:\n",
    "    if \"preview\" not in i:\n",
    "        list1.append(i)"
   ]
  },
  {
   "cell_type": "code",
   "execution_count": 17,
   "id": "0176a1ad",
   "metadata": {},
   "outputs": [],
   "source": [
    "for j in list1:\n",
    "    os.rename(j, j[:j.find(\"\\\\\", 25)+1]+'lc.html')"
   ]
  },
  {
   "cell_type": "code",
   "execution_count": 11,
   "id": "c8d5c9c2",
   "metadata": {},
   "outputs": [
    {
     "data": {
      "text/plain": [
       "37"
      ]
     },
     "execution_count": 11,
     "metadata": {},
     "output_type": "execute_result"
    }
   ],
   "source": [
    "list1[0].find(\"\\\\\", 25)"
   ]
  },
  {
   "cell_type": "code",
   "execution_count": 11,
   "id": "8d2687eb",
   "metadata": {},
   "outputs": [
    {
     "data": {
      "text/plain": [
       "'data/exo\\\\HAT-P-32\\\\Our\\\\2019-11-03_T35\\\\lc.txt'"
      ]
     },
     "execution_count": 11,
     "metadata": {},
     "output_type": "execute_result"
    }
   ],
   "source": [
    "list1[5][:list1[5].find(\"\\\\\", 25)+1]+'lc.txt'"
   ]
  },
  {
   "cell_type": "code",
   "execution_count": null,
   "id": "060d25ac",
   "metadata": {},
   "outputs": [],
   "source": []
  },
  {
   "cell_type": "markdown",
   "id": "5b746dd6",
   "metadata": {},
   "source": [
    "### used to move files and clean the data (to make all the directory structure coherent)"
   ]
  },
  {
   "cell_type": "code",
   "execution_count": 7,
   "id": "965b2d94",
   "metadata": {},
   "outputs": [],
   "source": [
    "def move_dir(src: str, dst: str, pattern: str = '*'):\n",
    "    if not os.path.isdir(dst):\n",
    "        pathlib.Path(dst).mkdir(parents=True, exist_ok=True)\n",
    "    for f in fnmatch.filter(os.listdir(src), pattern):\n",
    "        shutil.move(os.path.join(src, f), os.path.join(dst, f))"
   ]
  },
  {
   "cell_type": "code",
   "execution_count": 8,
   "id": "6620f154",
   "metadata": {},
   "outputs": [],
   "source": [
    "import shutil"
   ]
  },
  {
   "cell_type": "code",
   "execution_count": 11,
   "id": "0b3d0fc0",
   "metadata": {},
   "outputs": [],
   "source": [
    "for i in list1:\n",
    "    move_dir(i, i+ \"exofast/\",'*.ps')"
   ]
  },
  {
   "cell_type": "code",
   "execution_count": 12,
   "id": "49926cd6",
   "metadata": {},
   "outputs": [],
   "source": [
    "for i in list1:\n",
    "    move_dir(i, i+ \"exofast/\",'*.flux')"
   ]
  },
  {
   "cell_type": "code",
   "execution_count": 13,
   "id": "41c77e0d",
   "metadata": {},
   "outputs": [],
   "source": [
    "for i in list1:\n",
    "    move_dir(i, i+ \"exofast/\",'*.txt')"
   ]
  },
  {
   "cell_type": "code",
   "execution_count": 14,
   "id": "1e2ae42e",
   "metadata": {},
   "outputs": [],
   "source": [
    "for i in list1:\n",
    "    move_dir(i, i+ \"exofast/\",'*.pdf')"
   ]
  },
  {
   "cell_type": "code",
   "execution_count": null,
   "id": "70b1f23a",
   "metadata": {},
   "outputs": [],
   "source": []
  }
 ],
 "metadata": {
  "kernelspec": {
   "display_name": "Python 3 (ipykernel)",
   "language": "python",
   "name": "python3"
  },
  "language_info": {
   "codemirror_mode": {
    "name": "ipython",
    "version": 3
   },
   "file_extension": ".py",
   "mimetype": "text/x-python",
   "name": "python",
   "nbconvert_exporter": "python",
   "pygments_lexer": "ipython3",
   "version": "3.9.12"
  }
 },
 "nbformat": 4,
 "nbformat_minor": 5
}
