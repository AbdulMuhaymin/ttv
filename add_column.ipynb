{
 "cells": [
  {
   "cell_type": "markdown",
   "id": "9f6379ce",
   "metadata": {},
   "source": [
    "# Code to modify the TTV files to add a column with dummy data"
   ]
  },
  {
   "cell_type": "code",
   "execution_count": 1,
   "id": "b0a6cc3e",
   "metadata": {},
   "outputs": [],
   "source": [
    "import glob\n",
    "import pandas as pd\n",
    "import tabulate as tb"
   ]
  },
  {
   "cell_type": "markdown",
   "id": "1b21a416",
   "metadata": {},
   "source": [
    "After importing necessary libraries, now we will define a function that would help us later converting a DataFrame to a fixed-width-format data file"
   ]
  },
  {
   "cell_type": "code",
   "execution_count": 2,
   "id": "680e37d1",
   "metadata": {},
   "outputs": [],
   "source": [
    "def to_fwf(df, fname):\n",
    "    content = tb.tabulate(df.values.tolist(), list(df.columns), tablefmt=\"plain\")\n",
    "    open(fname, \"w\").write(content)\n",
    "pd.DataFrame.to_fwf = to_fwf"
   ]
  },
  {
   "cell_type": "markdown",
   "id": "5d6128b9",
   "metadata": {},
   "source": [
    "Now, we will import the names of all the ttv data files into a list. We use glob.glob to fetch any file that is in ttv folder and has a .txt format. Each element of the list contains an address of that data file."
   ]
  },
  {
   "cell_type": "code",
   "execution_count": 3,
   "id": "20f7910b",
   "metadata": {},
   "outputs": [],
   "source": [
    "ttv_files = glob.glob('data/ttv/*.txt')"
   ]
  },
  {
   "cell_type": "markdown",
   "id": "3a60f7e5",
   "metadata": {},
   "source": [
    "After importing all the data file, we run a loop for each element (data file). In this loop, first we create a dataframe from the data file. Then, we add an extra column to that dataframe. And lastly, we save that new dataframe with the same name as the corresponding data file but in a different folder called \"modified_data\".  "
   ]
  },
  {
   "cell_type": "code",
   "execution_count": 4,
   "id": "5eb5745c",
   "metadata": {},
   "outputs": [],
   "source": [
    "for i in ttv_files:\n",
    "    df = pd.read_fwf(i, skiprows=34, header=None, sep=\"\\t+\")\n",
    "    \n",
    "    df[len(df.columns)] = \"iiiixiiiixiiiixiiiixiiiix\"\n",
    "    \n",
    "    save_loc = \"modified_data/\" + i[9:]\n",
    "    pd.DataFrame.to_fwf(df, save_loc)"
   ]
  },
  {
   "cell_type": "markdown",
   "id": "67e9d730",
   "metadata": {},
   "source": [
    "Now, we can manually edit these data file to put the name of the corresponding light curve file."
   ]
  },
  {
   "cell_type": "code",
   "execution_count": null,
   "id": "f44c97bb",
   "metadata": {},
   "outputs": [],
   "source": []
  }
 ],
 "metadata": {
  "kernelspec": {
   "display_name": "Python 3 (ipykernel)",
   "language": "python",
   "name": "python3"
  },
  "language_info": {
   "codemirror_mode": {
    "name": "ipython",
    "version": 3
   },
   "file_extension": ".py",
   "mimetype": "text/x-python",
   "name": "python",
   "nbconvert_exporter": "python",
   "pygments_lexer": "ipython3",
   "version": "3.9.12"
  }
 },
 "nbformat": 4,
 "nbformat_minor": 5
}
