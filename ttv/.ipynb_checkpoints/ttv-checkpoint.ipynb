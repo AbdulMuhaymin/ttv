{
 "cells": [
  {
   "cell_type": "code",
   "execution_count": 8,
   "id": "cec0f491",
   "metadata": {},
   "outputs": [],
   "source": [
    "from bokeh.plotting import save, figure, output_file\n",
    "from bokeh.models import ColumnDataSource\n",
    "import pandas\n",
    "import glob\n",
    "\n",
    "file_list = glob.glob('*.txt')\n",
    "\n",
    "for data_file in file_list:        \n",
    "    \n",
    "    output = \"plots/\" + data_file[:-4] + \".html\" \n",
    "    output_file(output)\n",
    "\n",
    "    df = pandas.read_fwf(data_file, skiprows=34, header=None, sep=\"\\s+\")\n",
    "    source = ColumnDataSource(data=dict(\n",
    "        x=df[4],\n",
    "        y=df[5]\n",
    "        ))\n",
    "    \n",
    "    p = figure(sizing_mode=\"stretch_both\",\n",
    "               tools=\"pan, save, reset, wheel_zoom, help\",\n",
    "               title=\"TTV Diagram for \" + data_file[:-4],\n",
    "               x_axis_label = \"Epoch\", \n",
    "               y_axis_label = \"O-C\")\n",
    "    \n",
    "    p.circle('x', 'y', size=10, source=source)\n",
    "    \n",
    "    save(p)"
   ]
  },
  {
   "cell_type": "code",
   "execution_count": null,
   "id": "54daafdd",
   "metadata": {},
   "outputs": [],
   "source": []
  }
 ],
 "metadata": {
  "kernelspec": {
   "display_name": "Python 3 (ipykernel)",
   "language": "python",
   "name": "python3"
  },
  "language_info": {
   "codemirror_mode": {
    "name": "ipython",
    "version": 3
   },
   "file_extension": ".py",
   "mimetype": "text/x-python",
   "name": "python",
   "nbconvert_exporter": "python",
   "pygments_lexer": "ipython3",
   "version": "3.9.12"
  }
 },
 "nbformat": 4,
 "nbformat_minor": 5
}
