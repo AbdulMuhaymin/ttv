{
 "cells": [
  {
   "cell_type": "code",
   "execution_count": 1,
   "id": "72c69986",
   "metadata": {},
   "outputs": [],
   "source": [
    "from glob import glob\n",
    "from pandas import read_fwf\n",
    "from bokeh.plotting import save, figure, output_file, show\n",
    "from bokeh.models import ColumnDataSource, OpenURL, TapTool, BasicTickFormatter\n",
    "from bokeh.models.tools import HoverTool\n",
    "from bokeh.transform import factor_cmap\n",
    "from bokeh.io import export_png"
   ]
  },
  {
   "cell_type": "code",
   "execution_count": 2,
   "id": "c7c67979",
   "metadata": {},
   "outputs": [
    {
     "data": {
      "text/plain": [
       "'data/mod_data\\\\hatp23_oc_modelstats.txt'"
      ]
     },
     "execution_count": 2,
     "metadata": {},
     "output_type": "execute_result"
    }
   ],
   "source": [
    "file_list = glob('data/mod_data/*.txt')\n",
    "data_file = file_list[0]"
   ]
  },
  {
   "cell_type": "code",
   "execution_count": 3,
   "id": "ecf292e3",
   "metadata": {},
   "outputs": [],
   "source": [
    "output = \"plots/ttv/\" + data_file[14:-4] + \".html\"\n",
    "output_file(output)\n",
    "\n",
    "end = data_file.find('_oc')\n",
    "if data_file[14:18] == \"hatp\":\n",
    "    name = \"HAT-P-\" + data_file[18:end]\n",
    "elif data_file[14:18] == \"wasp\":\n",
    "    name = \"WASP-\" + data_file[18:end]"
   ]
  },
  {
   "cell_type": "code",
   "execution_count": 4,
   "id": "7eb25842",
   "metadata": {},
   "outputs": [],
   "source": [
    "ref = read_fwf(data_file, skiprows=1, header=None, sep=\"\\t+\")\n",
    "ref = ref.drop(ref[ref[21] == 1].index)\n",
    "\n",
    "df = ref.drop(ref[ref[8] == 'ThisStudy'].index)\n",
    "this = ref.drop(ref[ref[8] != 'ThisStudy'].index)"
   ]
  },
  {
   "cell_type": "code",
   "execution_count": 5,
   "id": "1e6032b9",
   "metadata": {},
   "outputs": [],
   "source": [
    "source = ColumnDataSource(data=dict(\n",
    "                epoch = df[4],\n",
    "                res = df[6]*1440,\n",
    "                LCType = df[8], \n",
    "                err_l = (df[6] - df[1])*1440,\n",
    "                err_h = (df[6] + df[1])*1440,\n",
    "        \n",
    "                img_link = \"../../\" + df[22] + \"preview.png\",\n",
    "                link = \"../../\" + df[22] + \"preview.html\"\n",
    "            ))"
   ]
  },
  {
   "cell_type": "code",
   "execution_count": 6,
   "id": "cd925ace",
   "metadata": {},
   "outputs": [],
   "source": [
    "sourceThis = ColumnDataSource(data=dict(\n",
    "                epoch=this[4],\n",
    "                res=this[6]*1440,\n",
    "                LCType=this[8], \n",
    "                err_l = (this[6] - this[1])*1440,\n",
    "                err_h = (this[6] + this[1])*1440,\n",
    "    \n",
    "                img_link = \"../../\" + this[22] + \"lc.png\",\n",
    "                link = \"../../\" + this[23] + \"preview.html\"\n",
    "            ))"
   ]
  },
  {
   "cell_type": "code",
   "execution_count": 7,
   "id": "808da9de",
   "metadata": {},
   "outputs": [],
   "source": [
    "p = figure(sizing_mode=\"stretch_both\",                             \n",
    "        tools=\"pan, box_zoom, save, reset, wheel_zoom, help\", \n",
    "        title=\"TTV Diagram for \" + name,\n",
    "        x_axis_label = \"Epoch (cycle)\", \n",
    "        y_axis_label = \"O-C (min)\")"
   ]
  },
  {
   "cell_type": "code",
   "execution_count": 8,
   "id": "93c04292",
   "metadata": {},
   "outputs": [
    {
     "data": {
      "text/html": [
       "<div style=\"display: table;\"><div style=\"display: table-row;\"><div style=\"display: table-cell;\"><b title=\"bokeh.models.renderers.GlyphRenderer\">GlyphRenderer</b>(</div><div style=\"display: table-cell;\">id&nbsp;=&nbsp;'1047', <span id=\"1050\" style=\"cursor: pointer;\">&hellip;)</span></div></div><div class=\"1049\" style=\"display: none;\"><div style=\"display: table-cell;\"></div><div style=\"display: table-cell;\">coordinates&nbsp;=&nbsp;None,</div></div><div class=\"1049\" style=\"display: none;\"><div style=\"display: table-cell;\"></div><div style=\"display: table-cell;\">data_source&nbsp;=&nbsp;ColumnDataSource(id='1043', ...),</div></div><div class=\"1049\" style=\"display: none;\"><div style=\"display: table-cell;\"></div><div style=\"display: table-cell;\">glyph&nbsp;=&nbsp;Segment(id='1044', ...),</div></div><div class=\"1049\" style=\"display: none;\"><div style=\"display: table-cell;\"></div><div style=\"display: table-cell;\">group&nbsp;=&nbsp;None,</div></div><div class=\"1049\" style=\"display: none;\"><div style=\"display: table-cell;\"></div><div style=\"display: table-cell;\">hover_glyph&nbsp;=&nbsp;None,</div></div><div class=\"1049\" style=\"display: none;\"><div style=\"display: table-cell;\"></div><div style=\"display: table-cell;\">js_event_callbacks&nbsp;=&nbsp;{},</div></div><div class=\"1049\" style=\"display: none;\"><div style=\"display: table-cell;\"></div><div style=\"display: table-cell;\">js_property_callbacks&nbsp;=&nbsp;{},</div></div><div class=\"1049\" style=\"display: none;\"><div style=\"display: table-cell;\"></div><div style=\"display: table-cell;\">level&nbsp;=&nbsp;'glyph',</div></div><div class=\"1049\" style=\"display: none;\"><div style=\"display: table-cell;\"></div><div style=\"display: table-cell;\">muted&nbsp;=&nbsp;False,</div></div><div class=\"1049\" style=\"display: none;\"><div style=\"display: table-cell;\"></div><div style=\"display: table-cell;\">muted_glyph&nbsp;=&nbsp;Segment(id='1046', ...),</div></div><div class=\"1049\" style=\"display: none;\"><div style=\"display: table-cell;\"></div><div style=\"display: table-cell;\">name&nbsp;=&nbsp;None,</div></div><div class=\"1049\" style=\"display: none;\"><div style=\"display: table-cell;\"></div><div style=\"display: table-cell;\">nonselection_glyph&nbsp;=&nbsp;Segment(id='1045', ...),</div></div><div class=\"1049\" style=\"display: none;\"><div style=\"display: table-cell;\"></div><div style=\"display: table-cell;\">selection_glyph&nbsp;=&nbsp;'auto',</div></div><div class=\"1049\" style=\"display: none;\"><div style=\"display: table-cell;\"></div><div style=\"display: table-cell;\">subscribed_events&nbsp;=&nbsp;[],</div></div><div class=\"1049\" style=\"display: none;\"><div style=\"display: table-cell;\"></div><div style=\"display: table-cell;\">syncable&nbsp;=&nbsp;True,</div></div><div class=\"1049\" style=\"display: none;\"><div style=\"display: table-cell;\"></div><div style=\"display: table-cell;\">tags&nbsp;=&nbsp;[],</div></div><div class=\"1049\" style=\"display: none;\"><div style=\"display: table-cell;\"></div><div style=\"display: table-cell;\">view&nbsp;=&nbsp;CDSView(id='1048', ...),</div></div><div class=\"1049\" style=\"display: none;\"><div style=\"display: table-cell;\"></div><div style=\"display: table-cell;\">visible&nbsp;=&nbsp;True,</div></div><div class=\"1049\" style=\"display: none;\"><div style=\"display: table-cell;\"></div><div style=\"display: table-cell;\">x_range_name&nbsp;=&nbsp;'default',</div></div><div class=\"1049\" style=\"display: none;\"><div style=\"display: table-cell;\"></div><div style=\"display: table-cell;\">y_range_name&nbsp;=&nbsp;'default')</div></div></div>\n",
       "<script>\n",
       "(function() {\n",
       "  let expanded = false;\n",
       "  const ellipsis = document.getElementById(\"1050\");\n",
       "  ellipsis.addEventListener(\"click\", function() {\n",
       "    const rows = document.getElementsByClassName(\"1049\");\n",
       "    for (let i = 0; i < rows.length; i++) {\n",
       "      const el = rows[i];\n",
       "      el.style.display = expanded ? \"none\" : \"table-row\";\n",
       "    }\n",
       "    ellipsis.innerHTML = expanded ? \"&hellip;)\" : \"&lsaquo;&lsaquo;&lsaquo;\";\n",
       "    expanded = !expanded;\n",
       "  });\n",
       "})();\n",
       "</script>\n"
      ],
      "text/plain": [
       "GlyphRenderer(id='1047', ...)"
      ]
     },
     "execution_count": 8,
     "metadata": {},
     "output_type": "execute_result"
    }
   ],
   "source": [
    "p.segment(x0=df[4],\n",
    "        y0=(df[6] - df[1])*1440,\n",
    "        x1=df[4],\n",
    "        y1=(df[6] + df[1])*1440,\n",
    "        color = 'black'\n",
    "        )\n",
    "\n",
    "p.segment(x0=df[4],\n",
    "        y0=(df[6] - df[1])*1440,\n",
    "        x1=df[4],\n",
    "        y1=(df[6] + df[1])*1440,\n",
    "        color = 'black'\n",
    "        )"
   ]
  },
  {
   "cell_type": "code",
   "execution_count": 9,
   "id": "65bc48c7",
   "metadata": {},
   "outputs": [
    {
     "data": {
      "text/html": [
       "<div style=\"display: table;\"><div style=\"display: table-row;\"><div style=\"display: table-cell;\"><b title=\"bokeh.models.renderers.GlyphRenderer\">GlyphRenderer</b>(</div><div style=\"display: table-cell;\">id&nbsp;=&nbsp;'1080', <span id=\"1100\" style=\"cursor: pointer;\">&hellip;)</span></div></div><div class=\"1099\" style=\"display: none;\"><div style=\"display: table-cell;\"></div><div style=\"display: table-cell;\">coordinates&nbsp;=&nbsp;None,</div></div><div class=\"1099\" style=\"display: none;\"><div style=\"display: table-cell;\"></div><div style=\"display: table-cell;\">data_source&nbsp;=&nbsp;ColumnDataSource(id='1003', ...),</div></div><div class=\"1099\" style=\"display: none;\"><div style=\"display: table-cell;\"></div><div style=\"display: table-cell;\">glyph&nbsp;=&nbsp;Circle(id='1077', ...),</div></div><div class=\"1099\" style=\"display: none;\"><div style=\"display: table-cell;\"></div><div style=\"display: table-cell;\">group&nbsp;=&nbsp;None,</div></div><div class=\"1099\" style=\"display: none;\"><div style=\"display: table-cell;\"></div><div style=\"display: table-cell;\">hover_glyph&nbsp;=&nbsp;None,</div></div><div class=\"1099\" style=\"display: none;\"><div style=\"display: table-cell;\"></div><div style=\"display: table-cell;\">js_event_callbacks&nbsp;=&nbsp;{},</div></div><div class=\"1099\" style=\"display: none;\"><div style=\"display: table-cell;\"></div><div style=\"display: table-cell;\">js_property_callbacks&nbsp;=&nbsp;{},</div></div><div class=\"1099\" style=\"display: none;\"><div style=\"display: table-cell;\"></div><div style=\"display: table-cell;\">level&nbsp;=&nbsp;'glyph',</div></div><div class=\"1099\" style=\"display: none;\"><div style=\"display: table-cell;\"></div><div style=\"display: table-cell;\">muted&nbsp;=&nbsp;False,</div></div><div class=\"1099\" style=\"display: none;\"><div style=\"display: table-cell;\"></div><div style=\"display: table-cell;\">muted_glyph&nbsp;=&nbsp;Circle(id='1079', ...),</div></div><div class=\"1099\" style=\"display: none;\"><div style=\"display: table-cell;\"></div><div style=\"display: table-cell;\">name&nbsp;=&nbsp;'needsHover',</div></div><div class=\"1099\" style=\"display: none;\"><div style=\"display: table-cell;\"></div><div style=\"display: table-cell;\">nonselection_glyph&nbsp;=&nbsp;Circle(id='1078', ...),</div></div><div class=\"1099\" style=\"display: none;\"><div style=\"display: table-cell;\"></div><div style=\"display: table-cell;\">selection_glyph&nbsp;=&nbsp;'auto',</div></div><div class=\"1099\" style=\"display: none;\"><div style=\"display: table-cell;\"></div><div style=\"display: table-cell;\">subscribed_events&nbsp;=&nbsp;[],</div></div><div class=\"1099\" style=\"display: none;\"><div style=\"display: table-cell;\"></div><div style=\"display: table-cell;\">syncable&nbsp;=&nbsp;True,</div></div><div class=\"1099\" style=\"display: none;\"><div style=\"display: table-cell;\"></div><div style=\"display: table-cell;\">tags&nbsp;=&nbsp;[],</div></div><div class=\"1099\" style=\"display: none;\"><div style=\"display: table-cell;\"></div><div style=\"display: table-cell;\">view&nbsp;=&nbsp;CDSView(id='1081', ...),</div></div><div class=\"1099\" style=\"display: none;\"><div style=\"display: table-cell;\"></div><div style=\"display: table-cell;\">visible&nbsp;=&nbsp;True,</div></div><div class=\"1099\" style=\"display: none;\"><div style=\"display: table-cell;\"></div><div style=\"display: table-cell;\">x_range_name&nbsp;=&nbsp;'default',</div></div><div class=\"1099\" style=\"display: none;\"><div style=\"display: table-cell;\"></div><div style=\"display: table-cell;\">y_range_name&nbsp;=&nbsp;'default')</div></div></div>\n",
       "<script>\n",
       "(function() {\n",
       "  let expanded = false;\n",
       "  const ellipsis = document.getElementById(\"1100\");\n",
       "  ellipsis.addEventListener(\"click\", function() {\n",
       "    const rows = document.getElementsByClassName(\"1099\");\n",
       "    for (let i = 0; i < rows.length; i++) {\n",
       "      const el = rows[i];\n",
       "      el.style.display = expanded ? \"none\" : \"table-row\";\n",
       "    }\n",
       "    ellipsis.innerHTML = expanded ? \"&hellip;)\" : \"&lsaquo;&lsaquo;&lsaquo;\";\n",
       "    expanded = !expanded;\n",
       "  });\n",
       "})();\n",
       "</script>\n"
      ],
      "text/plain": [
       "GlyphRenderer(id='1080', ...)"
      ]
     },
     "execution_count": 9,
     "metadata": {},
     "output_type": "execute_result"
    }
   ],
   "source": [
    "p.circle('epoch', 'res',                                         \n",
    "                size=10,                                              \n",
    "                source=source,                                        \n",
    "                color=factor_cmap('LCType',\n",
    "                                ['gray', 'turquoise', 'darkblue'],\n",
    "                                ['Database', 'Literature', 'TESS']),\n",
    "                legend_group = 'LCType', \n",
    "                name = \"needsHover\"\n",
    "            )\n",
    "\n",
    "p.circle('epoch', 'res',                     \n",
    "                size=12,\n",
    "                source=sourceThis,\n",
    "                color=factor_cmap('LCType',\n",
    "                                ['red'],\n",
    "                                ['ThisStudy']),\n",
    "                legend_group='LCType',\n",
    "                name = \"needsHover\"\n",
    "        )"
   ]
  },
  {
   "cell_type": "code",
   "execution_count": 10,
   "id": "bb023998",
   "metadata": {},
   "outputs": [],
   "source": [
    "p.legend.title = \"Light Curve Type\"\n",
    "p.legend.location = \"top_left\" "
   ]
  },
  {
   "cell_type": "code",
   "execution_count": 11,
   "id": "0e177f33",
   "metadata": {},
   "outputs": [],
   "source": [
    "hover = HoverTool(names=['needsHover'])\n",
    "hover.tooltips = \"\"\"\n",
    "          <div>\n",
    "            <h3>{title} </h3>\n",
    "            <div><strong>Click to see the details</strong></div>\n",
    "            <div><img src=\"@img_link\" alt=\"Sorry, the image didn't load properly.\" width=\"200\" /></div>\n",
    "          </div>\n",
    "        \"\"\".format(title = \"Light Curve Preview\")\n",
    "p.add_tools(hover)"
   ]
  },
  {
   "cell_type": "code",
   "execution_count": 12,
   "id": "aadc0594",
   "metadata": {},
   "outputs": [],
   "source": [
    "url = \"@link\"\n",
    "tap = TapTool(names = [\"needsHover\"]) \n",
    "tap.callback = OpenURL(url=url)\n",
    "p.add_tools(tap)"
   ]
  },
  {
   "cell_type": "code",
   "execution_count": 13,
   "id": "0197ea6b",
   "metadata": {},
   "outputs": [
    {
     "data": {
      "text/plain": [
       "'C:\\\\Users\\\\muhay\\\\3D Objects\\\\v2\\\\plots\\\\ttv\\\\hatp23_oc_modelstats.html'"
      ]
     },
     "execution_count": 13,
     "metadata": {},
     "output_type": "execute_result"
    }
   ],
   "source": [
    "p.xaxis.axis_label_text_font_size = \"15pt\"\n",
    "p.yaxis.axis_label_text_font_size = \"15pt\"\n",
    "p.xaxis.major_label_text_font_size = \"15pt\"\n",
    "p.yaxis.major_label_text_font_size = \"15pt\"\n",
    "p.xaxis.formatter = BasicTickFormatter(use_scientific=False)\n",
    "p.yaxis.formatter = BasicTickFormatter(use_scientific=False)\n",
    "p.title.text_font_size = '20pt'\n",
    "p.legend.label_text_font_size = '13pt'\n",
    "p.legend.title_text_font_size = '14pt'\n",
    "    \n",
    "#export_png(p, filename=\"plots/ttv_images/\" + data_file[14:-4] + \".png\") # exporting as png image to use in the homepage\n",
    "save(p)"
   ]
  },
  {
   "cell_type": "code",
   "execution_count": null,
   "id": "f214babb",
   "metadata": {},
   "outputs": [],
   "source": []
  },
  {
   "cell_type": "code",
   "execution_count": null,
   "id": "16a08a65",
   "metadata": {},
   "outputs": [],
   "source": []
  },
  {
   "cell_type": "code",
   "execution_count": null,
   "id": "e87c759e",
   "metadata": {},
   "outputs": [],
   "source": []
  }
 ],
 "metadata": {
  "kernelspec": {
   "display_name": "Python 3 (ipykernel)",
   "language": "python",
   "name": "python3"
  },
  "language_info": {
   "codemirror_mode": {
    "name": "ipython",
    "version": 3
   },
   "file_extension": ".py",
   "mimetype": "text/x-python",
   "name": "python",
   "nbconvert_exporter": "python",
   "pygments_lexer": "ipython3",
   "version": "3.9.12"
  }
 },
 "nbformat": 4,
 "nbformat_minor": 5
}
